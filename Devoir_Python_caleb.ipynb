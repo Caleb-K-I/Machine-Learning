{
 "cells": [
  {
   "cell_type": "markdown",
   "metadata": {},
   "source": [
    "# Devoir de Python\n",
    "Caleb KASHALA ILUNGA"
   ]
  },
  {
   "cell_type": "markdown",
   "metadata": {},
   "source": [
    "## Table de matiére\n",
    "    - Partie scrapping\n",
    "    - Partie nettoyage\n",
    "    - Partie descriptive\n",
    "    - partie apprentissage machine learning"
   ]
  },
  {
   "cell_type": "markdown",
   "metadata": {},
   "source": [
    "### Problématique: Comment estimer le meilleur prix possible en fonction de différentes variables présentées?"
   ]
  },
  {
   "cell_type": "code",
   "execution_count": 1,
   "metadata": {
    "scrolled": false
   },
   "outputs": [],
   "source": [
    "from selenium import webdriver\n",
    "from selenium.webdriver.common.by import By\n",
    "from selenium.webdriver.common.keys import Keys\n",
    "from time import sleep, time \n",
    "from selenium.common.exceptions import StaleElementReferenceException\n",
    "import pandas as pd\n",
    "\n",
    "import pandas as pd\n",
    "import numpy as np\n",
    "import matplotlib.pyplot as plt\n",
    "import scipy.stats\n",
    "import seaborn as sns \n",
    "\n",
    "from sklearn.linear_model import LinearRegression, Lasso, Ridge, ElasticNet\n",
    "from sklearn.neighbors import KNeighborsRegressor\n",
    "from sklearn.gaussian_process import GaussianProcessRegressor\n",
    "from sklearn.svm import SVR\n",
    "from sklearn.ensemble import RandomForestRegressor\n",
    "from sklearn.neural_network import MLPRegressor\n",
    "\n",
    "from sklearn.model_selection import train_test_split, cross_val_score\n",
    "\n",
    "from sklearn.preprocessing import LabelEncoder\n",
    "from sklearn.preprocessing import LabelBinarizer\n",
    "from sklearn.preprocessing import StandardScaler\n",
    "from sklearn.preprocessing import MinMaxScaler\n",
    "from sklearn.preprocessing import OneHotEncoder\n",
    "\n",
    "from sklearn.impute import SimpleImputer\n",
    "from sklearn.impute import MissingIndicator\n",
    "\n",
    "from sklearn.linear_model import SGDClassifier\n",
    "\n",
    "from sklearn.compose import make_column_transformer\n",
    "from sklearn.pipeline import Pipeline\n",
    "from sklearn.compose import ColumnTransformer\n",
    "\n",
    "from sklearn.model_selection import cross_val_score\n",
    "\n",
    "import matplotlib.pyplot as plt\n",
    "import numpy as np\n",
    "\n",
    "from sklearn.datasets import fetch_openml\n",
    "from sklearn.ensemble import RandomForestClassifier\n",
    "from sklearn.impute import SimpleImputer\n",
    "from sklearn.inspection import permutation_importance\n",
    "from sklearn.compose import ColumnTransformer\n",
    "from sklearn.model_selection import train_test_split\n",
    "from sklearn.pipeline import Pipeline\n",
    "from sklearn.preprocessing import OneHotEncoder\n",
    "\n",
    "from sklearn import model_selection as ms"
   ]
  },
  {
   "cell_type": "markdown",
   "metadata": {},
   "source": [
    "# PARTIE SCRAPPING"
   ]
  },
  {
   "cell_type": "code",
   "execution_count": null,
   "metadata": {
    "scrolled": false
   },
   "outputs": [],
   "source": [
    "driver = webdriver.Firefox()"
   ]
  },
  {
   "cell_type": "code",
   "execution_count": null,
   "metadata": {
    "scrolled": false
   },
   "outputs": [],
   "source": [
    "\n",
    "page=driver.get(\"https://fr.shopping.rakuten.com/nav/Tel-PDA_Telephones-mobiles#xtatc=PUB-[PMC]-[E]-[smartphones-tablettes-objets-connectes]-[sous-categorie]-[smartphone]-[Smartphones]-[]\")\n"
   ]
  },
  {
   "cell_type": "code",
   "execution_count": null,
   "metadata": {
    "scrolled": false
   },
   "outputs": [],
   "source": [
    "i=1\n",
    "carac=[]\n",
    "n=1\n",
    "pk=[]\n",
    "page=driver.get(\"https://fr.shopping.rakuten.com/nav/Tel-PDA_Telephones-mobiles#xtatc=PUB-[PMC]-[E]-[smartphones-tablettes-objets-connectes]-[sous-categorie]-[smartphone]-[Smartphones]-[]\")\n",
    "sleep(5)\n",
    "driver.find_element_by_link_text(\"Plus tard\").click()\n",
    "sleep(5)\n",
    "python_button = driver.find_elements_by_xpath(\"/html/body/div[2]/div/div/div/div/div[2]/span\")[0]\n",
    "python_button.click()\n",
    "while n <30:\n",
    "    pk.append([driver.find_elements_by_class_name(\"productList_layoutContent_NC_.pl-8.f14\")])\n",
    "    sleep(4)\n",
    "    driver.find_element_by_link_text(\"Suivant\").click()\n",
    "    sleep(10)\n",
    "    p=driver.find_elements_by_class_name(\"productList_layoutContent_NC_.pl-8.f14\")\n",
    "    sleep(4)\n",
    "    for i in range(len(p)):\n",
    "        pa=p[i].find_element_by_class_name(\"silver.description_caption_3J5\")\n",
    "        \n",
    "        if len(pa.find_elements_by_class_name(\"f12.description_bulletPoints_Vnz li\"))>1:\n",
    "            try:\n",
    "                reseau=([pa.find_elements_by_class_name(\"f12.description_bulletPoints_Vnz li\")[1].text])\n",
    "            except:\n",
    "                reseau=\"NA\"\n",
    "            try:\n",
    "                ecran=([pa.find_elements_by_class_name(\"f12.description_bulletPoints_Vnz li\")[0].text])\n",
    "            except:\n",
    "                ecran=\"NA\"\n",
    "            try:\n",
    "                exploit=([pa.find_elements_by_class_name(\"f12.description_bulletPoints_Vnz li\")[2].text])\n",
    "            except:\n",
    "                exploit=\"NA\"\n",
    "            try:\n",
    "                prix=([p[i].find_element_by_class_name(\"f20.b\").text])\n",
    "            except:\n",
    "                prix=\"NA\"\n",
    "            m=driver.find_elements_by_class_name(\"lh-title\")\n",
    "            marque=m[i].text\n",
    "        else:\n",
    "            pass\n",
    "        \n",
    "        Resultat={\"Marque\":marque,\"reseau\":reseau,\"exploit\":exploit,\"prix\":prix,\n",
    "                  \"écran\":ecran}\n",
    "\n",
    "        carac.append(Resultat)\n",
    "    \n",
    "    n=n+1\n",
    "    "
   ]
  },
  {
   "cell_type": "code",
   "execution_count": null,
   "metadata": {
    "scrolled": false
   },
   "outputs": [],
   "source": [
    "Data=pd.DataFrame(carac)\n",
    "Data.to_csv(\"Data_Scrapping.csv\")"
   ]
  },
  {
   "cell_type": "markdown",
   "metadata": {},
   "source": [
    "* Après avoir lancé le scrapping nous obtenons une base de données avec différentes variables et modalités associées aux variables.\n",
    "* Notre base de données est une base contenant des informations sur différentes marques et modèles de téléphone, dans cette base de données nous avons 1305 observations et 5 variables:\n",
    "    - Marque \n",
    "    - Réseau \n",
    "    - Exploit \n",
    "    - prix \n",
    "    - Ècran \n"
   ]
  },
  {
   "cell_type": "code",
   "execution_count": 2,
   "metadata": {
    "scrolled": false
   },
   "outputs": [
    {
     "data": {
      "text/html": [
       "<div>\n",
       "<style scoped>\n",
       "    .dataframe tbody tr th:only-of-type {\n",
       "        vertical-align: middle;\n",
       "    }\n",
       "\n",
       "    .dataframe tbody tr th {\n",
       "        vertical-align: top;\n",
       "    }\n",
       "\n",
       "    .dataframe thead th {\n",
       "        text-align: right;\n",
       "    }\n",
       "</style>\n",
       "<table border=\"1\" class=\"dataframe\">\n",
       "  <thead>\n",
       "    <tr style=\"text-align: right;\">\n",
       "      <th></th>\n",
       "      <th>Unnamed: 0</th>\n",
       "      <th>Marque</th>\n",
       "      <th>reseau</th>\n",
       "      <th>exploit</th>\n",
       "      <th>prix</th>\n",
       "      <th>écran</th>\n",
       "    </tr>\n",
       "  </thead>\n",
       "  <tbody>\n",
       "    <tr>\n",
       "      <th>1</th>\n",
       "      <td>1</td>\n",
       "      <td>OnePlus Nord N100 Dual SIM 64 Go Midnight Frost</td>\n",
       "      <td>['Réseau 4G']</td>\n",
       "      <td>['Mémoire 64 Go / RAM 4 Go']</td>\n",
       "      <td>['172,58 €']</td>\n",
       "      <td>['Ecran 6.52\"']</td>\n",
       "    </tr>\n",
       "    <tr>\n",
       "      <th>2</th>\n",
       "      <td>2</td>\n",
       "      <td>Huawei P40 lite 128 Go Double SIM Vert crush (...</td>\n",
       "      <td>['Réseau 4G']</td>\n",
       "      <td>['Mémoire 128 Go / RAM 6 Go']</td>\n",
       "      <td>['196,59 €']</td>\n",
       "      <td>['Ecran 6.4\"']</td>\n",
       "    </tr>\n",
       "    <tr>\n",
       "      <th>3</th>\n",
       "      <td>3</td>\n",
       "      <td>Xiaomi Poco X3 NFC Dual-SIM 64 Go Bleu</td>\n",
       "      <td>['Android']</td>\n",
       "      <td>['Double SIM']</td>\n",
       "      <td>['203,79 €']</td>\n",
       "      <td>['Mémoire 64 Go / RAM 6 Go']</td>\n",
       "    </tr>\n",
       "    <tr>\n",
       "      <th>4</th>\n",
       "      <td>4</td>\n",
       "      <td>Xiaomi Mi 10T Dual-SIM 128 Go Noir</td>\n",
       "      <td>['Android']</td>\n",
       "      <td>['Double SIM']</td>\n",
       "      <td>['409,99 €']</td>\n",
       "      <td>['Mémoire 128 Go / RAM 8 Go']</td>\n",
       "    </tr>\n",
       "    <tr>\n",
       "      <th>5</th>\n",
       "      <td>5</td>\n",
       "      <td>Huawei P30 lite 128 Go (RAM 4 Go) Double SIM B...</td>\n",
       "      <td>['Réseau 4G']</td>\n",
       "      <td>['Mémoire 128 Go / RAM 4 Go']</td>\n",
       "      <td>['214,50 €']</td>\n",
       "      <td>['Ecran 6.15\"']</td>\n",
       "    </tr>\n",
       "    <tr>\n",
       "      <th>6</th>\n",
       "      <td>6</td>\n",
       "      <td>Samsung Galaxy Note9 128 Go Double SIM Noir</td>\n",
       "      <td>['Réseau 4G']</td>\n",
       "      <td>['Mémoire 128 Go / RAM 6 Go']</td>\n",
       "      <td>['374 €']</td>\n",
       "      <td>['Ecran 6.4\"']</td>\n",
       "    </tr>\n",
       "    <tr>\n",
       "      <th>7</th>\n",
       "      <td>7</td>\n",
       "      <td>Samsung Galaxy S9 64 Go Double SIM Noir</td>\n",
       "      <td>['Réseau 4G']</td>\n",
       "      <td>['Mémoire 64 Go / RAM 4 Go']</td>\n",
       "      <td>['270 €']</td>\n",
       "      <td>['Ecran 5.8\"']</td>\n",
       "    </tr>\n",
       "    <tr>\n",
       "      <th>8</th>\n",
       "      <td>8</td>\n",
       "      <td>Huawei P20 lite 64 Go Double SIM Noir minuit</td>\n",
       "      <td>['Réseau 4G']</td>\n",
       "      <td>['Mémoire 64 Go / RAM 4 Go']</td>\n",
       "      <td>['189 €']</td>\n",
       "      <td>['Ecran 5.84\"']</td>\n",
       "    </tr>\n",
       "    <tr>\n",
       "      <th>9</th>\n",
       "      <td>9</td>\n",
       "      <td>Samsung Galaxy A51 128 Go Double SIM Blanc</td>\n",
       "      <td>['Réseau 4G']</td>\n",
       "      <td>['Mémoire 128 Go / RAM 4 Go']</td>\n",
       "      <td>['289,99 €']</td>\n",
       "      <td>['Ecran 6.5\"']</td>\n",
       "    </tr>\n",
       "  </tbody>\n",
       "</table>\n",
       "</div>"
      ],
      "text/plain": [
       "   Unnamed: 0                                             Marque  \\\n",
       "1           1    OnePlus Nord N100 Dual SIM 64 Go Midnight Frost   \n",
       "2           2  Huawei P40 lite 128 Go Double SIM Vert crush (...   \n",
       "3           3             Xiaomi Poco X3 NFC Dual-SIM 64 Go Bleu   \n",
       "4           4                 Xiaomi Mi 10T Dual-SIM 128 Go Noir   \n",
       "5           5  Huawei P30 lite 128 Go (RAM 4 Go) Double SIM B...   \n",
       "6           6        Samsung Galaxy Note9 128 Go Double SIM Noir   \n",
       "7           7            Samsung Galaxy S9 64 Go Double SIM Noir   \n",
       "8           8       Huawei P20 lite 64 Go Double SIM Noir minuit   \n",
       "9           9         Samsung Galaxy A51 128 Go Double SIM Blanc   \n",
       "\n",
       "          reseau                        exploit          prix  \\\n",
       "1  ['Réseau 4G']   ['Mémoire 64 Go / RAM 4 Go']  ['172,58 €']   \n",
       "2  ['Réseau 4G']  ['Mémoire 128 Go / RAM 6 Go']  ['196,59 €']   \n",
       "3    ['Android']                 ['Double SIM']  ['203,79 €']   \n",
       "4    ['Android']                 ['Double SIM']  ['409,99 €']   \n",
       "5  ['Réseau 4G']  ['Mémoire 128 Go / RAM 4 Go']  ['214,50 €']   \n",
       "6  ['Réseau 4G']  ['Mémoire 128 Go / RAM 6 Go']     ['374 €']   \n",
       "7  ['Réseau 4G']   ['Mémoire 64 Go / RAM 4 Go']     ['270 €']   \n",
       "8  ['Réseau 4G']   ['Mémoire 64 Go / RAM 4 Go']     ['189 €']   \n",
       "9  ['Réseau 4G']  ['Mémoire 128 Go / RAM 4 Go']  ['289,99 €']   \n",
       "\n",
       "                           écran  \n",
       "1                ['Ecran 6.52\"']  \n",
       "2                 ['Ecran 6.4\"']  \n",
       "3   ['Mémoire 64 Go / RAM 6 Go']  \n",
       "4  ['Mémoire 128 Go / RAM 8 Go']  \n",
       "5                ['Ecran 6.15\"']  \n",
       "6                 ['Ecran 6.4\"']  \n",
       "7                 ['Ecran 5.8\"']  \n",
       "8                ['Ecran 5.84\"']  \n",
       "9                 ['Ecran 6.5\"']  "
      ]
     },
     "execution_count": 2,
     "metadata": {},
     "output_type": "execute_result"
    }
   ],
   "source": [
    "#import re\n",
    "df1=pd.read_csv(\"Data_Scrapping.csv\")#df['Marque'] = df['Header'].str.extract('([A-S]\\w{0,})')\n",
    "df1[1:10]"
   ]
  },
  {
   "cell_type": "markdown",
   "metadata": {},
   "source": [
    "# Partie Nettoyage\n",
    "\n",
    "#### Après avoir créé notre base de données provenant du scrapping nous allons commencer par nettoyer notre base de données et apporter quelques modifications."
   ]
  },
  {
   "cell_type": "markdown",
   "metadata": {},
   "source": [
    "Dans un premier temps nous commençons par transformer toutes nos variables en type \"str\" pour pouvoir facilement utiliser les fonctions extract etreplace.  "
   ]
  },
  {
   "cell_type": "code",
   "execution_count": 3,
   "metadata": {
    "scrolled": false
   },
   "outputs": [],
   "source": [
    "#str\n",
    "df1['écran']=df1['écran'].astype(str)\n",
    "df1['reseau']=df1['reseau'].astype(str)\n",
    "df1['Marque']=df1['Marque'].astype(str)\n",
    "df1['exploit']=df1['exploit'].astype(str)\n",
    "df1['prix']=df1['prix'].astype(str)"
   ]
  },
  {
   "cell_type": "code",
   "execution_count": 4,
   "metadata": {
    "scrolled": false
   },
   "outputs": [
    {
     "data": {
      "text/html": [
       "<div>\n",
       "<style scoped>\n",
       "    .dataframe tbody tr th:only-of-type {\n",
       "        vertical-align: middle;\n",
       "    }\n",
       "\n",
       "    .dataframe tbody tr th {\n",
       "        vertical-align: top;\n",
       "    }\n",
       "\n",
       "    .dataframe thead th {\n",
       "        text-align: right;\n",
       "    }\n",
       "</style>\n",
       "<table border=\"1\" class=\"dataframe\">\n",
       "  <thead>\n",
       "    <tr style=\"text-align: right;\">\n",
       "      <th></th>\n",
       "      <th>Unnamed: 0</th>\n",
       "      <th>Marque</th>\n",
       "      <th>reseau</th>\n",
       "      <th>exploit</th>\n",
       "      <th>prix</th>\n",
       "      <th>écran</th>\n",
       "    </tr>\n",
       "  </thead>\n",
       "  <tbody>\n",
       "    <tr>\n",
       "      <th>0</th>\n",
       "      <td>0</td>\n",
       "      <td>Samsung Galaxy Note10 256 Go Double SIM Noir</td>\n",
       "      <td>['Réseau 4G']</td>\n",
       "      <td>['Mémoire 256 Go / RAM 8 Go']</td>\n",
       "      <td>['546,88 €']</td>\n",
       "      <td>['Ecran 6.3\"']</td>\n",
       "    </tr>\n",
       "    <tr>\n",
       "      <th>1</th>\n",
       "      <td>1</td>\n",
       "      <td>OnePlus Nord N100 Dual SIM 64 Go Midnight Frost</td>\n",
       "      <td>['Réseau 4G']</td>\n",
       "      <td>['Mémoire 64 Go / RAM 4 Go']</td>\n",
       "      <td>['172,58 €']</td>\n",
       "      <td>['Ecran 6.52\"']</td>\n",
       "    </tr>\n",
       "    <tr>\n",
       "      <th>2</th>\n",
       "      <td>2</td>\n",
       "      <td>Huawei P40 lite 128 Go Double SIM Vert crush (...</td>\n",
       "      <td>['Réseau 4G']</td>\n",
       "      <td>['Mémoire 128 Go / RAM 6 Go']</td>\n",
       "      <td>['196,59 €']</td>\n",
       "      <td>['Ecran 6.4\"']</td>\n",
       "    </tr>\n",
       "    <tr>\n",
       "      <th>3</th>\n",
       "      <td>3</td>\n",
       "      <td>Xiaomi Poco X3 NFC Dual-SIM 64 Go Bleu</td>\n",
       "      <td>['Android']</td>\n",
       "      <td>['Double SIM']</td>\n",
       "      <td>['203,79 €']</td>\n",
       "      <td>['Mémoire 64 Go / RAM 6 Go']</td>\n",
       "    </tr>\n",
       "    <tr>\n",
       "      <th>4</th>\n",
       "      <td>4</td>\n",
       "      <td>Xiaomi Mi 10T Dual-SIM 128 Go Noir</td>\n",
       "      <td>['Android']</td>\n",
       "      <td>['Double SIM']</td>\n",
       "      <td>['409,99 €']</td>\n",
       "      <td>['Mémoire 128 Go / RAM 8 Go']</td>\n",
       "    </tr>\n",
       "    <tr>\n",
       "      <th>...</th>\n",
       "      <td>...</td>\n",
       "      <td>...</td>\n",
       "      <td>...</td>\n",
       "      <td>...</td>\n",
       "      <td>...</td>\n",
       "      <td>...</td>\n",
       "    </tr>\n",
       "    <tr>\n",
       "      <th>1300</th>\n",
       "      <td>1300</td>\n",
       "      <td>Apple iPhone 6 Plus 16 Go Or</td>\n",
       "      <td>['Réseau 4G']</td>\n",
       "      <td>['iOS 8']</td>\n",
       "      <td>['164,90 €']</td>\n",
       "      <td>['Ecran 5.5\"']</td>\n",
       "    </tr>\n",
       "    <tr>\n",
       "      <th>1301</th>\n",
       "      <td>1301</td>\n",
       "      <td>Samsung Galaxy A5 (2017) Dual SIM 32 Go Or sable</td>\n",
       "      <td>['Android 6.0 (Marshmallow)']</td>\n",
       "      <td>['Double SIM']</td>\n",
       "      <td>['159,98 €']</td>\n",
       "      <td>['Ecran 5.2\"']</td>\n",
       "    </tr>\n",
       "    <tr>\n",
       "      <th>1302</th>\n",
       "      <td>1302</td>\n",
       "      <td>Samsung Galaxy Xcover 4 16 Go Noir</td>\n",
       "      <td>['Réseau 4G']</td>\n",
       "      <td>['Mémoire 16 Go / RAM 2 Go']</td>\n",
       "      <td>['159,99 €']</td>\n",
       "      <td>['Ecran 5\"']</td>\n",
       "    </tr>\n",
       "    <tr>\n",
       "      <th>1303</th>\n",
       "      <td>1303</td>\n",
       "      <td>Samsung Galaxy A5 (2017) 32 Go Or</td>\n",
       "      <td>['Réseau 4G']</td>\n",
       "      <td>['Mémoire 32 Go / RAM 3 Go']</td>\n",
       "      <td>['149,99 €']</td>\n",
       "      <td>['Ecran 5.2\"']</td>\n",
       "    </tr>\n",
       "    <tr>\n",
       "      <th>1304</th>\n",
       "      <td>1304</td>\n",
       "      <td>Google Pixel 3A XL 64 Go Blanc</td>\n",
       "      <td>['Single-SIM (SIM unique)']</td>\n",
       "      <td>nan</td>\n",
       "      <td>['280,60 €']</td>\n",
       "      <td>['Android 9.0 Pie']</td>\n",
       "    </tr>\n",
       "  </tbody>\n",
       "</table>\n",
       "<p>1305 rows × 6 columns</p>\n",
       "</div>"
      ],
      "text/plain": [
       "      Unnamed: 0                                             Marque  \\\n",
       "0              0       Samsung Galaxy Note10 256 Go Double SIM Noir   \n",
       "1              1    OnePlus Nord N100 Dual SIM 64 Go Midnight Frost   \n",
       "2              2  Huawei P40 lite 128 Go Double SIM Vert crush (...   \n",
       "3              3             Xiaomi Poco X3 NFC Dual-SIM 64 Go Bleu   \n",
       "4              4                 Xiaomi Mi 10T Dual-SIM 128 Go Noir   \n",
       "...          ...                                                ...   \n",
       "1300        1300                       Apple iPhone 6 Plus 16 Go Or   \n",
       "1301        1301   Samsung Galaxy A5 (2017) Dual SIM 32 Go Or sable   \n",
       "1302        1302                 Samsung Galaxy Xcover 4 16 Go Noir   \n",
       "1303        1303                  Samsung Galaxy A5 (2017) 32 Go Or   \n",
       "1304        1304                     Google Pixel 3A XL 64 Go Blanc   \n",
       "\n",
       "                             reseau                        exploit  \\\n",
       "0                     ['Réseau 4G']  ['Mémoire 256 Go / RAM 8 Go']   \n",
       "1                     ['Réseau 4G']   ['Mémoire 64 Go / RAM 4 Go']   \n",
       "2                     ['Réseau 4G']  ['Mémoire 128 Go / RAM 6 Go']   \n",
       "3                       ['Android']                 ['Double SIM']   \n",
       "4                       ['Android']                 ['Double SIM']   \n",
       "...                             ...                            ...   \n",
       "1300                  ['Réseau 4G']                      ['iOS 8']   \n",
       "1301  ['Android 6.0 (Marshmallow)']                 ['Double SIM']   \n",
       "1302                  ['Réseau 4G']   ['Mémoire 16 Go / RAM 2 Go']   \n",
       "1303                  ['Réseau 4G']   ['Mémoire 32 Go / RAM 3 Go']   \n",
       "1304    ['Single-SIM (SIM unique)']                            nan   \n",
       "\n",
       "              prix                          écran  \n",
       "0     ['546,88 €']                 ['Ecran 6.3\"']  \n",
       "1     ['172,58 €']                ['Ecran 6.52\"']  \n",
       "2     ['196,59 €']                 ['Ecran 6.4\"']  \n",
       "3     ['203,79 €']   ['Mémoire 64 Go / RAM 6 Go']  \n",
       "4     ['409,99 €']  ['Mémoire 128 Go / RAM 8 Go']  \n",
       "...            ...                            ...  \n",
       "1300  ['164,90 €']                 ['Ecran 5.5\"']  \n",
       "1301  ['159,98 €']                 ['Ecran 5.2\"']  \n",
       "1302  ['159,99 €']                   ['Ecran 5\"']  \n",
       "1303  ['149,99 €']                 ['Ecran 5.2\"']  \n",
       "1304  ['280,60 €']            ['Android 9.0 Pie']  \n",
       "\n",
       "[1305 rows x 6 columns]"
      ]
     },
     "execution_count": 4,
     "metadata": {},
     "output_type": "execute_result"
    }
   ],
   "source": [
    "#str\n",
    "#df['sexe'].astype('int')\n",
    "df1.dropna ( axis = 0 ,  how = 'all' )"
   ]
  },
  {
   "cell_type": "code",
   "execution_count": 5,
   "metadata": {
    "scrolled": false
   },
   "outputs": [],
   "source": [
    "import Nettoyage"
   ]
  },
  {
   "cell_type": "markdown",
   "metadata": {},
   "source": [
    "Dans un premier temps nous commençons par nettoyer la variable marque, pour si faire nous avons fait en sorte de ne garder que les marquent des téléphones et non pas les modèles associés aux marques.\\\n",
    "Ensuite nous avons mis toutes les variables en minuscule, pour facilement pouvoir séparer les données par marques."
   ]
  },
  {
   "cell_type": "code",
   "execution_count": 6,
   "metadata": {
    "collapsed": true,
    "scrolled": false
   },
   "outputs": [
    {
     "name": "stderr",
     "output_type": "stream",
     "text": [
      "C:\\Users\\caleb\\Desktop\\Devoir python\\Nettoyage.py:5: SettingWithCopyWarning: \n",
      "A value is trying to be set on a copy of a slice from a DataFrame\n",
      "\n",
      "See the caveats in the documentation: https://pandas.pydata.org/pandas-docs/stable/user_guide/indexing.html#returning-a-view-versus-a-copy\n",
      "  fichier['Marque'][i]=\"Inconnu\"\n"
     ]
    }
   ],
   "source": [
    "Nettoyage.nettoyage_marque(df1)"
   ]
  },
  {
   "cell_type": "code",
   "execution_count": 7,
   "metadata": {
    "scrolled": false
   },
   "outputs": [
    {
     "data": {
      "text/plain": [
       "samsung       389\n",
       "apple         275\n",
       "xiaomi        138\n",
       "inconnu       135\n",
       "huawei        111\n",
       "oneplus        43\n",
       "nokia          41\n",
       "sony           38\n",
       "google         26\n",
       "honor          21\n",
       "asus           17\n",
       "oppo           16\n",
       "realme         16\n",
       "lg             13\n",
       "blackberry     10\n",
       "nubia           9\n",
       "alcatel         3\n",
       "oukitel         2\n",
       "cubot           2\n",
       "Name: Marque, dtype: int64"
      ]
     },
     "execution_count": 7,
     "metadata": {},
     "output_type": "execute_result"
    }
   ],
   "source": [
    "df1.Marque.value_counts()"
   ]
  },
  {
   "cell_type": "markdown",
   "metadata": {},
   "source": [
    "Dans la cellule suivante nous avons nettoyé les données provenant de la variable écran. Nous avons enlevé la chaine de caractère \"['Écran \" au début et nous avons enlevé les 3 dernières chaine de caractère"
   ]
  },
  {
   "cell_type": "code",
   "execution_count": 8,
   "metadata": {
    "scrolled": false
   },
   "outputs": [],
   "source": [
    "Nettoyage.nettoyage_ecran(df1)"
   ]
  },
  {
   "cell_type": "code",
   "execution_count": 9,
   "metadata": {
    "scrolled": false
   },
   "outputs": [],
   "source": [
    "del df1['Unnamed: 0']"
   ]
  },
  {
   "cell_type": "code",
   "execution_count": 10,
   "metadata": {
    "scrolled": false
   },
   "outputs": [],
   "source": [
    "#str\n",
    "df1['écran']=df1['écran'].astype(str)\n",
    "df1['reseau']=df1['reseau'].astype(str)\n",
    "df1['Marque']=df1['Marque'].astype(str)\n",
    "df1['exploit']=df1['exploit'].astype(str)\n",
    "df1['prix']=df1['prix'].astype(str)"
   ]
  },
  {
   "cell_type": "markdown",
   "metadata": {},
   "source": [
    "Pour le nettoyage de du variable réseau nous avons transformé les modalités:\n",
    "    - 5G si le téléphone est doté d'un réseau 5G\n",
    "    - 4G si le téléphone est doté d'un réseau 4G\n",
    "    - 3G si le téléphone est doté d'un réseau 3G\n",
    "    "
   ]
  },
  {
   "cell_type": "code",
   "execution_count": 11,
   "metadata": {
    "scrolled": false
   },
   "outputs": [],
   "source": [
    "Nettoyage.nettoyage_reseau(df1)"
   ]
  },
  {
   "cell_type": "markdown",
   "metadata": {},
   "source": [
    "En ce qui concerne le nettoyage des données provenant de la variable prix nous avons remplacé les virgules par des points pour pouvoir ensuite les transformer en type numérique, ensuite nous avons enlevé le signe euro et le \"nan\" présent dans cette colonne."
   ]
  },
  {
   "cell_type": "code",
   "execution_count": 12,
   "metadata": {
    "scrolled": false
   },
   "outputs": [
    {
     "name": "stdout",
     "output_type": "stream",
     "text": [
      "\n"
     ]
    }
   ],
   "source": [
    "Nettoyage.nettoyage_prix(df1)"
   ]
  },
  {
   "cell_type": "markdown",
   "metadata": {},
   "source": [
    "En ce qui concerne le nettoyage des données provenant de la variable exploit nous avons effacé les chaines de caractère \"['\" et \"']\" présent."
   ]
  },
  {
   "cell_type": "code",
   "execution_count": 13,
   "metadata": {
    "scrolled": false
   },
   "outputs": [],
   "source": [
    "Nettoyage.nettoyage_exploit(df1)"
   ]
  },
  {
   "cell_type": "markdown",
   "metadata": {},
   "source": [
    "À partir de le variable exploit nous avons créé deux variables la variable RAM et la variable mémoire. Dans le cas où l'information sur le RAM et la mémoire serait inexistante dans le variable exploit nous avons défini la modalité \"inconnu\". Et nous avons pour la fin supprimée la colonne associée à la variable exploit.\n"
   ]
  },
  {
   "cell_type": "code",
   "execution_count": 14,
   "metadata": {
    "scrolled": false
   },
   "outputs": [],
   "source": [
    "Nettoyage.col_Ram(df1)"
   ]
  },
  {
   "cell_type": "code",
   "execution_count": 15,
   "metadata": {
    "scrolled": false
   },
   "outputs": [],
   "source": [
    "Nettoyage.cor_exploit(df1)"
   ]
  },
  {
   "cell_type": "code",
   "execution_count": 16,
   "metadata": {
    "scrolled": false
   },
   "outputs": [],
   "source": [
    "Nettoyage.col_memoire(df1)"
   ]
  },
  {
   "cell_type": "code",
   "execution_count": 17,
   "metadata": {
    "scrolled": false
   },
   "outputs": [
    {
     "data": {
      "text/html": [
       "<div>\n",
       "<style scoped>\n",
       "    .dataframe tbody tr th:only-of-type {\n",
       "        vertical-align: middle;\n",
       "    }\n",
       "\n",
       "    .dataframe tbody tr th {\n",
       "        vertical-align: top;\n",
       "    }\n",
       "\n",
       "    .dataframe thead th {\n",
       "        text-align: right;\n",
       "    }\n",
       "</style>\n",
       "<table border=\"1\" class=\"dataframe\">\n",
       "  <thead>\n",
       "    <tr style=\"text-align: right;\">\n",
       "      <th></th>\n",
       "      <th>Marque</th>\n",
       "      <th>reseau</th>\n",
       "      <th>prix</th>\n",
       "      <th>écran</th>\n",
       "      <th>Ram</th>\n",
       "      <th>Mémoire</th>\n",
       "    </tr>\n",
       "  </thead>\n",
       "  <tbody>\n",
       "    <tr>\n",
       "      <th>1</th>\n",
       "      <td>oneplus</td>\n",
       "      <td>4G</td>\n",
       "      <td>172.58</td>\n",
       "      <td>6.52</td>\n",
       "      <td>RAM 4 Go</td>\n",
       "      <td>64</td>\n",
       "    </tr>\n",
       "    <tr>\n",
       "      <th>2</th>\n",
       "      <td>huawei</td>\n",
       "      <td>4G</td>\n",
       "      <td>196.59</td>\n",
       "      <td>6.4</td>\n",
       "      <td>RAM 6 Go</td>\n",
       "      <td>128</td>\n",
       "    </tr>\n",
       "    <tr>\n",
       "      <th>5</th>\n",
       "      <td>huawei</td>\n",
       "      <td>4G</td>\n",
       "      <td>214.50</td>\n",
       "      <td>6.15</td>\n",
       "      <td>RAM 4 Go</td>\n",
       "      <td>128</td>\n",
       "    </tr>\n",
       "    <tr>\n",
       "      <th>6</th>\n",
       "      <td>samsung</td>\n",
       "      <td>4G</td>\n",
       "      <td>374</td>\n",
       "      <td>6.4</td>\n",
       "      <td>RAM 6 Go</td>\n",
       "      <td>128</td>\n",
       "    </tr>\n",
       "    <tr>\n",
       "      <th>7</th>\n",
       "      <td>samsung</td>\n",
       "      <td>4G</td>\n",
       "      <td>270</td>\n",
       "      <td>5.8</td>\n",
       "      <td>RAM 4 Go</td>\n",
       "      <td>64</td>\n",
       "    </tr>\n",
       "    <tr>\n",
       "      <th>8</th>\n",
       "      <td>huawei</td>\n",
       "      <td>4G</td>\n",
       "      <td>189</td>\n",
       "      <td>5.84</td>\n",
       "      <td>RAM 4 Go</td>\n",
       "      <td>64</td>\n",
       "    </tr>\n",
       "    <tr>\n",
       "      <th>9</th>\n",
       "      <td>samsung</td>\n",
       "      <td>4G</td>\n",
       "      <td>289.99</td>\n",
       "      <td>6.5</td>\n",
       "      <td>RAM 4 Go</td>\n",
       "      <td>128</td>\n",
       "    </tr>\n",
       "    <tr>\n",
       "      <th>10</th>\n",
       "      <td>inconnu</td>\n",
       "      <td>5G</td>\n",
       "      <td>320.88</td>\n",
       "      <td>6.6</td>\n",
       "      <td>RAM 4 Go</td>\n",
       "      <td>128</td>\n",
       "    </tr>\n",
       "    <tr>\n",
       "      <th>11</th>\n",
       "      <td>google</td>\n",
       "      <td>5G</td>\n",
       "      <td>825</td>\n",
       "      <td>6</td>\n",
       "      <td>RAM 8 Go</td>\n",
       "      <td>128</td>\n",
       "    </tr>\n",
       "  </tbody>\n",
       "</table>\n",
       "</div>"
      ],
      "text/plain": [
       "     Marque reseau    prix écran        Ram Mémoire\n",
       "1   oneplus     4G  172.58  6.52   RAM 4 Go    64  \n",
       "2    huawei     4G  196.59   6.4   RAM 6 Go   128  \n",
       "5    huawei     4G  214.50  6.15   RAM 4 Go   128  \n",
       "6   samsung     4G     374   6.4   RAM 6 Go   128  \n",
       "7   samsung     4G     270   5.8   RAM 4 Go    64  \n",
       "8    huawei     4G     189  5.84   RAM 4 Go    64  \n",
       "9   samsung     4G  289.99   6.5   RAM 4 Go   128  \n",
       "10  inconnu     5G  320.88   6.6   RAM 4 Go   128  \n",
       "11   google     5G     825     6   RAM 8 Go   128  "
      ]
     },
     "execution_count": 17,
     "metadata": {},
     "output_type": "execute_result"
    }
   ],
   "source": [
    "df1.pop('exploit')\n",
    "df1[1:10]"
   ]
  },
  {
   "cell_type": "code",
   "execution_count": 18,
   "metadata": {
    "scrolled": false
   },
   "outputs": [
    {
     "name": "stdout",
     "output_type": "stream",
     "text": [
      "Inconnu        330\n",
      " RAM 4 Go      181\n",
      " RAM 6 Go      157\n",
      " RAM 8 Go      124\n",
      " RAM 3 Go       84\n",
      " RAM 2 Go       61\n",
      " RAM 1 Go       18\n",
      " RAM 12 Go       9\n",
      " RAM 512 Mo      7\n",
      " Inconnu         3\n",
      " RAM 16 Go       3\n",
      "Name: Ram, dtype: int64\n"
     ]
    }
   ],
   "source": [
    "print(df1['Ram'].value_counts())"
   ]
  },
  {
   "cell_type": "code",
   "execution_count": 19,
   "metadata": {
    "scrolled": false
   },
   "outputs": [
    {
     "name": "stdout",
     "output_type": "stream",
     "text": [
      "\n"
     ]
    }
   ],
   "source": [
    "Nettoyage.nettoyage_prix(df1)"
   ]
  },
  {
   "cell_type": "code",
   "execution_count": 20,
   "metadata": {
    "scrolled": false
   },
   "outputs": [
    {
     "name": "stdout",
     "output_type": "stream",
     "text": [
      "samsung       267\n",
      "apple         258\n",
      "xiaomi        114\n",
      "huawei         93\n",
      "inconnu        64\n",
      "sony           29\n",
      "oneplus        29\n",
      "nokia          26\n",
      "google         21\n",
      "honor          21\n",
      "asus           15\n",
      "oppo           14\n",
      "lg              9\n",
      "blackberry      8\n",
      "realme          8\n",
      "alcatel         1\n",
      "Name: Marque, dtype: int64\n"
     ]
    }
   ],
   "source": [
    "print(df1.Marque.value_counts())"
   ]
  },
  {
   "cell_type": "code",
   "execution_count": 21,
   "metadata": {
    "scrolled": false
   },
   "outputs": [],
   "source": [
    "df1=df1.reset_index()\n",
    "del df1['index']"
   ]
  },
  {
   "cell_type": "markdown",
   "metadata": {},
   "source": [
    "* Àprès avoir nettoyé toute notre base de données et ajouté deux variables  nous nous retrouvons avec une base de données de 977 observations et 6 variables.  "
   ]
  },
  {
   "cell_type": "code",
   "execution_count": 22,
   "metadata": {
    "scrolled": false
   },
   "outputs": [
    {
     "data": {
      "text/html": [
       "<div>\n",
       "<style scoped>\n",
       "    .dataframe tbody tr th:only-of-type {\n",
       "        vertical-align: middle;\n",
       "    }\n",
       "\n",
       "    .dataframe tbody tr th {\n",
       "        vertical-align: top;\n",
       "    }\n",
       "\n",
       "    .dataframe thead th {\n",
       "        text-align: right;\n",
       "    }\n",
       "</style>\n",
       "<table border=\"1\" class=\"dataframe\">\n",
       "  <thead>\n",
       "    <tr style=\"text-align: right;\">\n",
       "      <th></th>\n",
       "      <th>Marque</th>\n",
       "      <th>reseau</th>\n",
       "      <th>prix</th>\n",
       "      <th>écran</th>\n",
       "      <th>Ram</th>\n",
       "      <th>Mémoire</th>\n",
       "    </tr>\n",
       "  </thead>\n",
       "  <tbody>\n",
       "    <tr>\n",
       "      <th>1</th>\n",
       "      <td>oneplus</td>\n",
       "      <td>4G</td>\n",
       "      <td>172.58</td>\n",
       "      <td>6.52</td>\n",
       "      <td>RAM 4 Go</td>\n",
       "      <td>64</td>\n",
       "    </tr>\n",
       "    <tr>\n",
       "      <th>2</th>\n",
       "      <td>huawei</td>\n",
       "      <td>4G</td>\n",
       "      <td>196.59</td>\n",
       "      <td>6.4</td>\n",
       "      <td>RAM 6 Go</td>\n",
       "      <td>128</td>\n",
       "    </tr>\n",
       "    <tr>\n",
       "      <th>3</th>\n",
       "      <td>huawei</td>\n",
       "      <td>4G</td>\n",
       "      <td>214.50</td>\n",
       "      <td>6.15</td>\n",
       "      <td>RAM 4 Go</td>\n",
       "      <td>128</td>\n",
       "    </tr>\n",
       "    <tr>\n",
       "      <th>4</th>\n",
       "      <td>samsung</td>\n",
       "      <td>4G</td>\n",
       "      <td>374</td>\n",
       "      <td>6.4</td>\n",
       "      <td>RAM 6 Go</td>\n",
       "      <td>128</td>\n",
       "    </tr>\n",
       "    <tr>\n",
       "      <th>5</th>\n",
       "      <td>samsung</td>\n",
       "      <td>4G</td>\n",
       "      <td>270</td>\n",
       "      <td>5.8</td>\n",
       "      <td>RAM 4 Go</td>\n",
       "      <td>64</td>\n",
       "    </tr>\n",
       "    <tr>\n",
       "      <th>6</th>\n",
       "      <td>huawei</td>\n",
       "      <td>4G</td>\n",
       "      <td>189</td>\n",
       "      <td>5.84</td>\n",
       "      <td>RAM 4 Go</td>\n",
       "      <td>64</td>\n",
       "    </tr>\n",
       "    <tr>\n",
       "      <th>7</th>\n",
       "      <td>samsung</td>\n",
       "      <td>4G</td>\n",
       "      <td>289.99</td>\n",
       "      <td>6.5</td>\n",
       "      <td>RAM 4 Go</td>\n",
       "      <td>128</td>\n",
       "    </tr>\n",
       "    <tr>\n",
       "      <th>8</th>\n",
       "      <td>inconnu</td>\n",
       "      <td>5G</td>\n",
       "      <td>320.88</td>\n",
       "      <td>6.6</td>\n",
       "      <td>RAM 4 Go</td>\n",
       "      <td>128</td>\n",
       "    </tr>\n",
       "    <tr>\n",
       "      <th>9</th>\n",
       "      <td>google</td>\n",
       "      <td>5G</td>\n",
       "      <td>825</td>\n",
       "      <td>6</td>\n",
       "      <td>RAM 8 Go</td>\n",
       "      <td>128</td>\n",
       "    </tr>\n",
       "  </tbody>\n",
       "</table>\n",
       "</div>"
      ],
      "text/plain": [
       "    Marque reseau    prix écran        Ram Mémoire\n",
       "1  oneplus     4G  172.58  6.52   RAM 4 Go    64  \n",
       "2   huawei     4G  196.59   6.4   RAM 6 Go   128  \n",
       "3   huawei     4G  214.50  6.15   RAM 4 Go   128  \n",
       "4  samsung     4G     374   6.4   RAM 6 Go   128  \n",
       "5  samsung     4G     270   5.8   RAM 4 Go    64  \n",
       "6   huawei     4G     189  5.84   RAM 4 Go    64  \n",
       "7  samsung     4G  289.99   6.5   RAM 4 Go   128  \n",
       "8  inconnu     5G  320.88   6.6   RAM 4 Go   128  \n",
       "9   google     5G     825     6   RAM 8 Go   128  "
      ]
     },
     "execution_count": 22,
     "metadata": {},
     "output_type": "execute_result"
    }
   ],
   "source": [
    "df1[1:10]"
   ]
  },
  {
   "cell_type": "markdown",
   "metadata": {},
   "source": [
    "# PARTIE DESCRIPTIVE"
   ]
  },
  {
   "cell_type": "markdown",
   "metadata": {},
   "source": [
    "Pour commencer cette partie nous transformons toutes nos variables en type \"category\" sauf la variable correspondant au prix."
   ]
  },
  {
   "cell_type": "code",
   "execution_count": 23,
   "metadata": {
    "scrolled": false
   },
   "outputs": [],
   "source": [
    "#str\n",
    "df1.Ram=df1.Ram.astype(\"category\")\n",
    "df1.reseau=df1.reseau.astype(\"category\")\n",
    "df1.Marque=df1.Marque.astype(\"category\")\n",
    "df1['écran']=df1['écran'].astype(\"category\")\n",
    "df1['Mémoire']=df1['Mémoire'].astype(\"category\")\n",
    "df1.prix=pd.to_numeric(df1[\"prix\"])"
   ]
  },
  {
   "cell_type": "code",
   "execution_count": 24,
   "metadata": {
    "scrolled": false
   },
   "outputs": [],
   "source": [
    "complet=df1"
   ]
  },
  {
   "cell_type": "markdown",
   "metadata": {},
   "source": [
    "Avec cette commande nous montrons le nombre de modalités par variable, modalité la plus représentée pour chaque variable et leur nombre d'apparition."
   ]
  },
  {
   "cell_type": "code",
   "execution_count": 25,
   "metadata": {
    "scrolled": false
   },
   "outputs": [
    {
     "name": "stdout",
     "output_type": "stream",
     "text": [
      "         Marque reseau écran      Ram  Mémoire\n",
      "count       977    977   977      977      977\n",
      "unique       16      3    72       11        9\n",
      "top     samsung     4G   6.1  Inconnu  Inconnu\n",
      "freq        267    784    83      330      333\n"
     ]
    }
   ],
   "source": [
    "price = complet.set_index('prix') # transformer la variable en\n",
    "print(price.describe())"
   ]
  },
  {
   "cell_type": "markdown",
   "metadata": {},
   "source": [
    "Ici nous montrons quelques informations sur le variable prix, notamment la moyenne, le minimum et le maximum."
   ]
  },
  {
   "cell_type": "code",
   "execution_count": 26,
   "metadata": {
    "scrolled": false
   },
   "outputs": [
    {
     "data": {
      "text/html": [
       "<div>\n",
       "<style scoped>\n",
       "    .dataframe tbody tr th:only-of-type {\n",
       "        vertical-align: middle;\n",
       "    }\n",
       "\n",
       "    .dataframe tbody tr th {\n",
       "        vertical-align: top;\n",
       "    }\n",
       "\n",
       "    .dataframe thead th {\n",
       "        text-align: right;\n",
       "    }\n",
       "</style>\n",
       "<table border=\"1\" class=\"dataframe\">\n",
       "  <thead>\n",
       "    <tr style=\"text-align: right;\">\n",
       "      <th></th>\n",
       "      <th>prix</th>\n",
       "    </tr>\n",
       "  </thead>\n",
       "  <tbody>\n",
       "    <tr>\n",
       "      <th>count</th>\n",
       "      <td>977.00</td>\n",
       "    </tr>\n",
       "    <tr>\n",
       "      <th>mean</th>\n",
       "      <td>370.50</td>\n",
       "    </tr>\n",
       "    <tr>\n",
       "      <th>std</th>\n",
       "      <td>321.79</td>\n",
       "    </tr>\n",
       "    <tr>\n",
       "      <th>min</th>\n",
       "      <td>15.00</td>\n",
       "    </tr>\n",
       "    <tr>\n",
       "      <th>25%</th>\n",
       "      <td>159.40</td>\n",
       "    </tr>\n",
       "    <tr>\n",
       "      <th>50%</th>\n",
       "      <td>255.00</td>\n",
       "    </tr>\n",
       "    <tr>\n",
       "      <th>75%</th>\n",
       "      <td>469.99</td>\n",
       "    </tr>\n",
       "    <tr>\n",
       "      <th>max</th>\n",
       "      <td>2099.00</td>\n",
       "    </tr>\n",
       "  </tbody>\n",
       "</table>\n",
       "</div>"
      ],
      "text/plain": [
       "          prix\n",
       "count   977.00\n",
       "mean    370.50\n",
       "std     321.79\n",
       "min      15.00\n",
       "25%     159.40\n",
       "50%     255.00\n",
       "75%     469.99\n",
       "max    2099.00"
      ]
     },
     "execution_count": 26,
     "metadata": {},
     "output_type": "execute_result"
    }
   ],
   "source": [
    "df1.describe().round(2)"
   ]
  },
  {
   "cell_type": "code",
   "execution_count": 27,
   "metadata": {
    "scrolled": false
   },
   "outputs": [],
   "source": [
    "import seaborn as sns\n",
    "import numpy\n",
    "import pandas\n"
   ]
  },
  {
   "cell_type": "code",
   "execution_count": 4,
   "metadata": {},
   "outputs": [
    {
     "data": {
      "text/plain": [
       "DeprecationWarning"
      ]
     },
     "execution_count": 4,
     "metadata": {},
     "output_type": "execute_result"
    }
   ],
   "source": []
  },
  {
   "cell_type": "markdown",
   "metadata": {},
   "source": [
    "Nous remarquons grace à ces deux graphiques que la majorité des téléphones ont un prix compris entre 15 et 500 euros."
   ]
  },
  {
   "cell_type": "code",
   "execution_count": 28,
   "metadata": {
    "scrolled": false
   },
   "outputs": [
    {
     "data": {
      "text/plain": [
       "<matplotlib.axes._subplots.AxesSubplot at 0x20f5a8f91c0>"
      ]
     },
     "execution_count": 28,
     "metadata": {},
     "output_type": "execute_result"
    },
    {
     "data": {
      "image/png": "[encoded data removed]",
      "text/plain": [
       "<Figure size 432x288 with 1 Axes>"
      ]
     },
     "metadata": {
      "needs_background": "light"
     },
     "output_type": "display_data"
    }
   ],
   "source": [
    "df1.plot.hist()"
   ]
  },
  {
   "cell_type": "code",
   "execution_count": 29,
   "metadata": {
    "scrolled": false
   },
   "outputs": [
    {
     "data": {
      "text/plain": [
       "<matplotlib.axes._subplots.AxesSubplot at 0x20f5b0af760>"
      ]
     },
     "execution_count": 29,
     "metadata": {},
     "output_type": "execute_result"
    },
    {
     "data": {
      "image/png": "[encoded data removed]",
      "text/plain": [
       "<Figure size 432x288 with 1 Axes>"
      ]
     },
     "metadata": {
      "needs_background": "light"
     },
     "output_type": "display_data"
    }
   ],
   "source": [
    "df1.prix.plot(kind = \"kde\")"
   ]
  },
  {
   "cell_type": "markdown",
   "metadata": {},
   "source": [
    "Grâce à ce boxplot nous constatons que le prix du téléphone dépend assez grandement de sa technologie réseau.\\\n",
    "Plus la technologie réseau est élevée plus le prix en moyenne est élevé."
   ]
  },
  {
   "cell_type": "code",
   "execution_count": 30,
   "metadata": {
    "scrolled": false
   },
   "outputs": [
    {
     "data": {
      "text/plain": [
       "<matplotlib.axes._subplots.AxesSubplot at 0x20f5b10fd90>"
      ]
     },
     "execution_count": 30,
     "metadata": {},
     "output_type": "execute_result"
    },
    {
     "data": {
      "image/png": "[encoded data removed]",
      "text/plain": [
       "<Figure size 1008x360 with 1 Axes>"
      ]
     },
     "metadata": {
      "needs_background": "light"
     },
     "output_type": "display_data"
    }
   ],
   "source": [
    "plt.figure(figsize=(14, 5))\n",
    "sns.boxplot(x=\"reseau\", y=\"prix\", data=df1)"
   ]
  },
  {
   "cell_type": "markdown",
   "metadata": {},
   "source": [
    "Grâce à ce diagramme en bâton nous observons que les téléphones de marque Samsung et apple sont les plus représentés ensuite viennent les marques telles que xiaomi, huawei et la variable \"inconnu\"."
   ]
  },
  {
   "cell_type": "code",
   "execution_count": 31,
   "metadata": {
    "scrolled": false
   },
   "outputs": [
    {
     "data": {
      "text/plain": [
       "<matplotlib.axes._subplots.AxesSubplot at 0x20f5b18c7c0>"
      ]
     },
     "execution_count": 31,
     "metadata": {},
     "output_type": "execute_result"
    },
    {
     "data": {
      "image/png": "[encoded data removed]",
      "text/plain": [
       "<Figure size 432x288 with 1 Axes>"
      ]
     },
     "metadata": {
      "needs_background": "light"
     },
     "output_type": "display_data"
    }
   ],
   "source": [
    "t = pandas.crosstab(df1.Marque, \"freq\")\n",
    "t.plot.bar()"
   ]
  },
  {
   "cell_type": "markdown",
   "metadata": {},
   "source": [
    "Dans ce graphique nous représentons des boxplot qui nous montrent les prix par marques. "
   ]
  },
  {
   "cell_type": "code",
   "execution_count": 32,
   "metadata": {
    "scrolled": false
   },
   "outputs": [
    {
     "data": {
      "text/plain": [
       "<matplotlib.axes._subplots.AxesSubplot at 0x20f5b17cee0>"
      ]
     },
     "execution_count": 32,
     "metadata": {},
     "output_type": "execute_result"
    },
    {
     "data": {
      "image/png": "[encoded data removed]",
      "text/plain": [
       "<Figure size 1008x360 with 1 Axes>"
      ]
     },
     "metadata": {
      "needs_background": "light"
     },
     "output_type": "display_data"
    }
   ],
   "source": [
    "plt.figure(figsize=(14, 5))\n",
    "sns.boxplot(x=\"Marque\", y=\"prix\", data=df1)"
   ]
  },
  {
   "cell_type": "markdown",
   "metadata": {},
   "source": [
    "Ici nous représentons un camembert qui repreneuse l'effectif des téléphones pour chaque RAM disponiple."
   ]
  },
  {
   "cell_type": "code",
   "execution_count": 33,
   "metadata": {
    "scrolled": false
   },
   "outputs": [
    {
     "data": {
      "text/plain": [
       "array([<matplotlib.axes._subplots.AxesSubplot object at 0x0000020F5B1B2580>],\n",
       "      dtype=object)"
      ]
     },
     "execution_count": 33,
     "metadata": {},
     "output_type": "execute_result"
    },
    {
     "data": {
      "image/png": "[encoded data removed]",
      "text/plain": [
       "<Figure size 576x576 with 1 Axes>"
      ]
     },
     "metadata": {},
     "output_type": "display_data"
    }
   ],
   "source": [
    "t = pandas.crosstab(df1.Ram, \"freq\")\n",
    "t.plot.pie(subplots=True, figsize = (8,8))"
   ]
  },
  {
   "cell_type": "markdown",
   "metadata": {},
   "source": [
    "Ce graphique nous montre la quantité de téléphone en fonction de sa technologie réseau et de sa mémoire. "
   ]
  },
  {
   "cell_type": "code",
   "execution_count": 34,
   "metadata": {
    "scrolled": true
   },
   "outputs": [
    {
     "data": {
      "text/plain": [
       "<matplotlib.axes._subplots.AxesSubplot at 0x20f5b565b50>"
      ]
     },
     "execution_count": 34,
     "metadata": {},
     "output_type": "execute_result"
    },
    {
     "data": {
      "image/png": "[encoded data removed]",
      "text/plain": [
       "<Figure size 576x576 with 1 Axes>"
      ]
     },
     "metadata": {
      "needs_background": "light"
     },
     "output_type": "display_data"
    }
   ],
   "source": [
    "t = pd.crosstab(df1.reseau, df1.Mémoire)\n",
    "t.plot.bar( figsize = (8,8))\n"
   ]
  },
  {
   "cell_type": "markdown",
   "metadata": {},
   "source": [
    "# Partie Apprentissage"
   ]
  },
  {
   "cell_type": "markdown",
   "metadata": {},
   "source": [
    "Pour commencer la partie apprentissage nous commençons par définir les variables explicatives et la variable à expliquer.\\\n",
    "En ce qui nous concerne la variable à expliquer est le prix en fonction des variables marques, réseau, RAM, écran, mémoire."
   ]
  },
  {
   "cell_type": "code",
   "execution_count": 35,
   "metadata": {
    "scrolled": false
   },
   "outputs": [],
   "source": [
    "X, y = df1[[\"Marque\",\"reseau\",\"Ram\",\"écran\",\"Mémoire\"]], df1[\"prix\"]"
   ]
  },
  {
   "cell_type": "markdown",
   "metadata": {},
   "source": [
    "Nous vérifions que nous avons bien le même nombre de lignes dans les matrices associé aux variables explicatives et à la variable à expliquer."
   ]
  },
  {
   "cell_type": "code",
   "execution_count": 36,
   "metadata": {
    "scrolled": false
   },
   "outputs": [
    {
     "data": {
      "text/plain": [
       "((977, 5), (977,))"
      ]
     },
     "execution_count": 36,
     "metadata": {},
     "output_type": "execute_result"
    }
   ],
   "source": [
    "X.shape, y.shape"
   ]
  },
  {
   "cell_type": "code",
   "execution_count": 37,
   "metadata": {
    "scrolled": false
   },
   "outputs": [],
   "source": [
    "from sklearn.model_selection import train_test_split"
   ]
  },
  {
   "cell_type": "markdown",
   "metadata": {},
   "source": [
    "* Séparation de la base de données en données d'entrainement et données d'apprentissage"
   ]
  },
  {
   "cell_type": "code",
   "execution_count": 38,
   "metadata": {
    "scrolled": false
   },
   "outputs": [],
   "source": [
    "X_train, X_test, y_train, y_test = train_test_split(X, y)"
   ]
  },
  {
   "cell_type": "code",
   "execution_count": 39,
   "metadata": {
    "scrolled": false
   },
   "outputs": [],
   "source": [
    "quali = [\"Marque\",\"reseau\",\"Ram\",\"écran\",\"Mémoire\"] \n",
    "\n",
    "qualitrans=Pipeline(steps=[('imputer',OneHotEncoder(handle_unknown=\"ignore\"))])\n",
    "\n",
    "transformer = ColumnTransformer(transformers=[('cat',qualitrans,quali)])"
   ]
  },
  {
   "cell_type": "markdown",
   "metadata": {},
   "source": [
    "*  Grâce à cette fonction nous allons pouvoir modéliser  plusieurs modèles avec différents paramètres.\n",
    "* Les modèles qui sont modélisés sont les suivants:*LinearRegression, Lasso, Ridge, ElasticNet, KNeighborsRegressor, SVR, RandomForestRegressor, MLPRegressor*."
   ]
  },
  {
   "cell_type": "code",
   "execution_count": 40,
   "metadata": {
    "collapsed": true,
    "scrolled": true
   },
   "outputs": [
    {
     "name": "stderr",
     "output_type": "stream",
     "text": [
      "C:\\Users\\caleb\\Anaconda3\\lib\\site-packages\\sklearn\\linear_model\\_coordinate_descent.py:512: ConvergenceWarning: Objective did not converge. You might want to increase the number of iterations. Duality gap: 1858602.4993796684, tolerance: 6767.307471662021\n",
      "  model = cd_fast.sparse_enet_coordinate_descent(\n",
      "C:\\Users\\caleb\\Anaconda3\\lib\\site-packages\\sklearn\\linear_model\\_coordinate_descent.py:512: ConvergenceWarning: Objective did not converge. You might want to increase the number of iterations. Duality gap: 1948954.9703600053, tolerance: 6772.872292048161\n",
      "  model = cd_fast.sparse_enet_coordinate_descent(\n",
      "C:\\Users\\caleb\\Anaconda3\\lib\\site-packages\\sklearn\\linear_model\\_coordinate_descent.py:512: ConvergenceWarning: Objective did not converge. You might want to increase the number of iterations. Duality gap: 1509948.71864085, tolerance: 7108.9050141169355\n",
      "  model = cd_fast.sparse_enet_coordinate_descent(\n",
      "C:\\Users\\caleb\\Anaconda3\\lib\\site-packages\\sklearn\\linear_model\\_coordinate_descent.py:512: ConvergenceWarning: Objective did not converge. You might want to increase the number of iterations. Duality gap: 2043054.927793432, tolerance: 7116.687170477754\n",
      "  model = cd_fast.sparse_enet_coordinate_descent(\n",
      "C:\\Users\\caleb\\Anaconda3\\lib\\site-packages\\sklearn\\linear_model\\_coordinate_descent.py:512: ConvergenceWarning: Objective did not converge. You might want to increase the number of iterations. Duality gap: 1585327.2739005527, tolerance: 7392.553895035389\n",
      "  model = cd_fast.sparse_enet_coordinate_descent(\n",
      "C:\\Users\\caleb\\Anaconda3\\lib\\site-packages\\sklearn\\linear_model\\_coordinate_descent.py:512: ConvergenceWarning: Objective did not converge. You might want to increase the number of iterations. Duality gap: 2194330.353223826, tolerance: 7276.594141967224\n",
      "  model = cd_fast.sparse_enet_coordinate_descent(\n",
      "C:\\Users\\caleb\\Anaconda3\\lib\\site-packages\\sklearn\\linear_model\\_coordinate_descent.py:512: ConvergenceWarning: Objective did not converge. You might want to increase the number of iterations. Duality gap: 1748795.3194734687, tolerance: 7184.292997664735\n",
      "  model = cd_fast.sparse_enet_coordinate_descent(\n",
      "C:\\Users\\caleb\\Anaconda3\\lib\\site-packages\\sklearn\\linear_model\\_coordinate_descent.py:512: ConvergenceWarning: Objective did not converge. You might want to increase the number of iterations. Duality gap: 1513494.8524612961, tolerance: 7205.1361814040965\n",
      "  model = cd_fast.sparse_enet_coordinate_descent(\n",
      "C:\\Users\\caleb\\Anaconda3\\lib\\site-packages\\sklearn\\linear_model\\_coordinate_descent.py:512: ConvergenceWarning: Objective did not converge. You might want to increase the number of iterations. Duality gap: 1967315.8385087969, tolerance: 7080.577867678696\n",
      "  model = cd_fast.sparse_enet_coordinate_descent(\n",
      "C:\\Users\\caleb\\Anaconda3\\lib\\site-packages\\sklearn\\linear_model\\_coordinate_descent.py:512: ConvergenceWarning: Objective did not converge. You might want to increase the number of iterations. Duality gap: 2272763.4586276365, tolerance: 7256.084707702792\n",
      "  model = cd_fast.sparse_enet_coordinate_descent(\n",
      "C:\\Users\\caleb\\Anaconda3\\lib\\site-packages\\sklearn\\linear_model\\_coordinate_descent.py:512: ConvergenceWarning: Objective did not converge. You might want to increase the number of iterations. Duality gap: 69926.2857366763, tolerance: 6767.307471662021\n",
      "  model = cd_fast.sparse_enet_coordinate_descent(\n",
      "C:\\Users\\caleb\\Anaconda3\\lib\\site-packages\\sklearn\\linear_model\\_coordinate_descent.py:512: ConvergenceWarning: Objective did not converge. You might want to increase the number of iterations. Duality gap: 82175.59296747111, tolerance: 6772.872292048161\n",
      "  model = cd_fast.sparse_enet_coordinate_descent(\n",
      "C:\\Users\\caleb\\Anaconda3\\lib\\site-packages\\sklearn\\linear_model\\_coordinate_descent.py:512: ConvergenceWarning: Objective did not converge. You might want to increase the number of iterations. Duality gap: 63324.455928333104, tolerance: 7108.9050141169355\n",
      "  model = cd_fast.sparse_enet_coordinate_descent(\n",
      "C:\\Users\\caleb\\Anaconda3\\lib\\site-packages\\sklearn\\linear_model\\_coordinate_descent.py:512: ConvergenceWarning: Objective did not converge. You might want to increase the number of iterations. Duality gap: 93582.7753014192, tolerance: 7116.687170477754\n",
      "  model = cd_fast.sparse_enet_coordinate_descent(\n",
      "C:\\Users\\caleb\\Anaconda3\\lib\\site-packages\\sklearn\\linear_model\\_coordinate_descent.py:512: ConvergenceWarning: Objective did not converge. You might want to increase the number of iterations. Duality gap: 68789.96738585085, tolerance: 7392.553895035389\n",
      "  model = cd_fast.sparse_enet_coordinate_descent(\n",
      "C:\\Users\\caleb\\Anaconda3\\lib\\site-packages\\sklearn\\linear_model\\_coordinate_descent.py:512: ConvergenceWarning: Objective did not converge. You might want to increase the number of iterations. Duality gap: 80866.27344766445, tolerance: 7184.292997664735\n",
      "  model = cd_fast.sparse_enet_coordinate_descent(\n",
      "C:\\Users\\caleb\\Anaconda3\\lib\\site-packages\\sklearn\\linear_model\\_coordinate_descent.py:512: ConvergenceWarning: Objective did not converge. You might want to increase the number of iterations. Duality gap: 76499.62041322328, tolerance: 7205.1361814040965\n",
      "  model = cd_fast.sparse_enet_coordinate_descent(\n",
      "C:\\Users\\caleb\\Anaconda3\\lib\\site-packages\\sklearn\\linear_model\\_coordinate_descent.py:512: ConvergenceWarning: Objective did not converge. You might want to increase the number of iterations. Duality gap: 74568.51680404693, tolerance: 7080.577867678696\n",
      "  model = cd_fast.sparse_enet_coordinate_descent(\n",
      "C:\\Users\\caleb\\Anaconda3\\lib\\site-packages\\sklearn\\linear_model\\_coordinate_descent.py:512: ConvergenceWarning: Objective did not converge. You might want to increase the number of iterations. Duality gap: 178930.90097540803, tolerance: 7256.084707702792\n",
      "  model = cd_fast.sparse_enet_coordinate_descent(\n",
      "C:\\Users\\caleb\\Anaconda3\\lib\\site-packages\\sklearn\\linear_model\\_coordinate_descent.py:512: ConvergenceWarning: Objective did not converge. You might want to increase the number of iterations. Duality gap: 212496.7250605654, tolerance: 6767.307471662021\n",
      "  model = cd_fast.sparse_enet_coordinate_descent(\n",
      "C:\\Users\\caleb\\Anaconda3\\lib\\site-packages\\sklearn\\linear_model\\_coordinate_descent.py:512: ConvergenceWarning: Objective did not converge. You might want to increase the number of iterations. Duality gap: 105983.81384647265, tolerance: 6772.872292048161\n",
      "  model = cd_fast.sparse_enet_coordinate_descent(\n",
      "C:\\Users\\caleb\\Anaconda3\\lib\\site-packages\\sklearn\\linear_model\\_coordinate_descent.py:512: ConvergenceWarning: Objective did not converge. You might want to increase the number of iterations. Duality gap: 133829.99757066742, tolerance: 7108.9050141169355\n",
      "  model = cd_fast.sparse_enet_coordinate_descent(\n",
      "C:\\Users\\caleb\\Anaconda3\\lib\\site-packages\\sklearn\\linear_model\\_coordinate_descent.py:512: ConvergenceWarning: Objective did not converge. You might want to increase the number of iterations. Duality gap: 201974.51321439445, tolerance: 7116.687170477754\n",
      "  model = cd_fast.sparse_enet_coordinate_descent(\n",
      "C:\\Users\\caleb\\Anaconda3\\lib\\site-packages\\sklearn\\linear_model\\_coordinate_descent.py:512: ConvergenceWarning: Objective did not converge. You might want to increase the number of iterations. Duality gap: 190036.76603031158, tolerance: 7392.553895035389\n",
      "  model = cd_fast.sparse_enet_coordinate_descent(\n",
      "C:\\Users\\caleb\\Anaconda3\\lib\\site-packages\\sklearn\\linear_model\\_coordinate_descent.py:512: ConvergenceWarning: Objective did not converge. You might want to increase the number of iterations. Duality gap: 123395.61714218184, tolerance: 7276.594141967224\n",
      "  model = cd_fast.sparse_enet_coordinate_descent(\n",
      "C:\\Users\\caleb\\Anaconda3\\lib\\site-packages\\sklearn\\linear_model\\_coordinate_descent.py:512: ConvergenceWarning: Objective did not converge. You might want to increase the number of iterations. Duality gap: 164370.48509822972, tolerance: 7184.292997664735\n",
      "  model = cd_fast.sparse_enet_coordinate_descent(\n",
      "C:\\Users\\caleb\\Anaconda3\\lib\\site-packages\\sklearn\\linear_model\\_coordinate_descent.py:512: ConvergenceWarning: Objective did not converge. You might want to increase the number of iterations. Duality gap: 252540.88571946882, tolerance: 7205.1361814040965\n",
      "  model = cd_fast.sparse_enet_coordinate_descent(\n"
     ]
    },
    {
     "name": "stderr",
     "output_type": "stream",
     "text": [
      "C:\\Users\\caleb\\Anaconda3\\lib\\site-packages\\sklearn\\linear_model\\_coordinate_descent.py:512: ConvergenceWarning: Objective did not converge. You might want to increase the number of iterations. Duality gap: 234424.1334314607, tolerance: 7080.577867678696\n",
      "  model = cd_fast.sparse_enet_coordinate_descent(\n",
      "C:\\Users\\caleb\\Anaconda3\\lib\\site-packages\\sklearn\\linear_model\\_coordinate_descent.py:512: ConvergenceWarning: Objective did not converge. You might want to increase the number of iterations. Duality gap: 499822.73349139653, tolerance: 7256.084707702792\n",
      "  model = cd_fast.sparse_enet_coordinate_descent(\n",
      "C:\\Users\\caleb\\Anaconda3\\lib\\site-packages\\sklearn\\linear_model\\_coordinate_descent.py:512: ConvergenceWarning: Objective did not converge. You might want to increase the number of iterations. Duality gap: 3996819.9923812756, tolerance: 6767.307471662021\n",
      "  model = cd_fast.sparse_enet_coordinate_descent(\n",
      "C:\\Users\\caleb\\Anaconda3\\lib\\site-packages\\sklearn\\linear_model\\_coordinate_descent.py:512: ConvergenceWarning: Objective did not converge. You might want to increase the number of iterations. Duality gap: 3716349.04811756, tolerance: 6772.872292048161\n",
      "  model = cd_fast.sparse_enet_coordinate_descent(\n",
      "C:\\Users\\caleb\\Anaconda3\\lib\\site-packages\\sklearn\\linear_model\\_coordinate_descent.py:512: ConvergenceWarning: Objective did not converge. You might want to increase the number of iterations. Duality gap: 3900057.971116151, tolerance: 7108.9050141169355\n",
      "  model = cd_fast.sparse_enet_coordinate_descent(\n",
      "C:\\Users\\caleb\\Anaconda3\\lib\\site-packages\\sklearn\\linear_model\\_coordinate_descent.py:512: ConvergenceWarning: Objective did not converge. You might want to increase the number of iterations. Duality gap: 4395180.008292127, tolerance: 7116.687170477754\n",
      "  model = cd_fast.sparse_enet_coordinate_descent(\n",
      "C:\\Users\\caleb\\Anaconda3\\lib\\site-packages\\sklearn\\linear_model\\_coordinate_descent.py:512: ConvergenceWarning: Objective did not converge. You might want to increase the number of iterations. Duality gap: 4004830.7958339285, tolerance: 7392.553895035389\n",
      "  model = cd_fast.sparse_enet_coordinate_descent(\n",
      "C:\\Users\\caleb\\Anaconda3\\lib\\site-packages\\sklearn\\linear_model\\_coordinate_descent.py:512: ConvergenceWarning: Objective did not converge. You might want to increase the number of iterations. Duality gap: 3423916.5385573497, tolerance: 7276.594141967224\n",
      "  model = cd_fast.sparse_enet_coordinate_descent(\n",
      "C:\\Users\\caleb\\Anaconda3\\lib\\site-packages\\sklearn\\linear_model\\_coordinate_descent.py:512: ConvergenceWarning: Objective did not converge. You might want to increase the number of iterations. Duality gap: 3956778.2662176713, tolerance: 7184.292997664735\n",
      "  model = cd_fast.sparse_enet_coordinate_descent(\n",
      "C:\\Users\\caleb\\Anaconda3\\lib\\site-packages\\sklearn\\linear_model\\_coordinate_descent.py:512: ConvergenceWarning: Objective did not converge. You might want to increase the number of iterations. Duality gap: 4262094.540383992, tolerance: 7205.1361814040965\n",
      "  model = cd_fast.sparse_enet_coordinate_descent(\n",
      "C:\\Users\\caleb\\Anaconda3\\lib\\site-packages\\sklearn\\linear_model\\_coordinate_descent.py:512: ConvergenceWarning: Objective did not converge. You might want to increase the number of iterations. Duality gap: 4289581.2405093135, tolerance: 7080.577867678696\n",
      "  model = cd_fast.sparse_enet_coordinate_descent(\n",
      "C:\\Users\\caleb\\Anaconda3\\lib\\site-packages\\sklearn\\linear_model\\_coordinate_descent.py:512: ConvergenceWarning: Objective did not converge. You might want to increase the number of iterations. Duality gap: 4508074.235980541, tolerance: 7256.084707702792\n",
      "  model = cd_fast.sparse_enet_coordinate_descent(\n",
      "C:\\Users\\caleb\\Anaconda3\\lib\\site-packages\\sklearn\\neural_network\\_multilayer_perceptron.py:582: ConvergenceWarning: Stochastic Optimizer: Maximum iterations (200) reached and the optimization hasn't converged yet.\n",
      "  warnings.warn(\n",
      "C:\\Users\\caleb\\Anaconda3\\lib\\site-packages\\sklearn\\neural_network\\_multilayer_perceptron.py:582: ConvergenceWarning: Stochastic Optimizer: Maximum iterations (200) reached and the optimization hasn't converged yet.\n",
      "  warnings.warn(\n",
      "C:\\Users\\caleb\\Anaconda3\\lib\\site-packages\\sklearn\\neural_network\\_multilayer_perceptron.py:582: ConvergenceWarning: Stochastic Optimizer: Maximum iterations (200) reached and the optimization hasn't converged yet.\n",
      "  warnings.warn(\n",
      "C:\\Users\\caleb\\Anaconda3\\lib\\site-packages\\sklearn\\neural_network\\_multilayer_perceptron.py:582: ConvergenceWarning: Stochastic Optimizer: Maximum iterations (200) reached and the optimization hasn't converged yet.\n",
      "  warnings.warn(\n",
      "C:\\Users\\caleb\\Anaconda3\\lib\\site-packages\\sklearn\\neural_network\\_multilayer_perceptron.py:582: ConvergenceWarning: Stochastic Optimizer: Maximum iterations (200) reached and the optimization hasn't converged yet.\n",
      "  warnings.warn(\n",
      "C:\\Users\\caleb\\Anaconda3\\lib\\site-packages\\sklearn\\neural_network\\_multilayer_perceptron.py:582: ConvergenceWarning: Stochastic Optimizer: Maximum iterations (200) reached and the optimization hasn't converged yet.\n",
      "  warnings.warn(\n",
      "C:\\Users\\caleb\\Anaconda3\\lib\\site-packages\\sklearn\\neural_network\\_multilayer_perceptron.py:582: ConvergenceWarning: Stochastic Optimizer: Maximum iterations (200) reached and the optimization hasn't converged yet.\n",
      "  warnings.warn(\n",
      "C:\\Users\\caleb\\Anaconda3\\lib\\site-packages\\sklearn\\neural_network\\_multilayer_perceptron.py:582: ConvergenceWarning: Stochastic Optimizer: Maximum iterations (200) reached and the optimization hasn't converged yet.\n",
      "  warnings.warn(\n",
      "C:\\Users\\caleb\\Anaconda3\\lib\\site-packages\\sklearn\\neural_network\\_multilayer_perceptron.py:582: ConvergenceWarning: Stochastic Optimizer: Maximum iterations (200) reached and the optimization hasn't converged yet.\n",
      "  warnings.warn(\n",
      "C:\\Users\\caleb\\Anaconda3\\lib\\site-packages\\sklearn\\neural_network\\_multilayer_perceptron.py:582: ConvergenceWarning: Stochastic Optimizer: Maximum iterations (200) reached and the optimization hasn't converged yet.\n",
      "  warnings.warn(\n",
      "C:\\Users\\caleb\\Anaconda3\\lib\\site-packages\\sklearn\\neural_network\\_multilayer_perceptron.py:582: ConvergenceWarning: Stochastic Optimizer: Maximum iterations (200) reached and the optimization hasn't converged yet.\n",
      "  warnings.warn(\n",
      "C:\\Users\\caleb\\Anaconda3\\lib\\site-packages\\sklearn\\neural_network\\_multilayer_perceptron.py:582: ConvergenceWarning: Stochastic Optimizer: Maximum iterations (200) reached and the optimization hasn't converged yet.\n",
      "  warnings.warn(\n",
      "C:\\Users\\caleb\\Anaconda3\\lib\\site-packages\\sklearn\\neural_network\\_multilayer_perceptron.py:582: ConvergenceWarning: Stochastic Optimizer: Maximum iterations (200) reached and the optimization hasn't converged yet.\n",
      "  warnings.warn(\n",
      "C:\\Users\\caleb\\Anaconda3\\lib\\site-packages\\sklearn\\neural_network\\_multilayer_perceptron.py:582: ConvergenceWarning: Stochastic Optimizer: Maximum iterations (200) reached and the optimization hasn't converged yet.\n",
      "  warnings.warn(\n",
      "C:\\Users\\caleb\\Anaconda3\\lib\\site-packages\\sklearn\\neural_network\\_multilayer_perceptron.py:582: ConvergenceWarning: Stochastic Optimizer: Maximum iterations (200) reached and the optimization hasn't converged yet.\n",
      "  warnings.warn(\n",
      "C:\\Users\\caleb\\Anaconda3\\lib\\site-packages\\sklearn\\neural_network\\_multilayer_perceptron.py:582: ConvergenceWarning: Stochastic Optimizer: Maximum iterations (200) reached and the optimization hasn't converged yet.\n",
      "  warnings.warn(\n",
      "C:\\Users\\caleb\\Anaconda3\\lib\\site-packages\\sklearn\\neural_network\\_multilayer_perceptron.py:582: ConvergenceWarning: Stochastic Optimizer: Maximum iterations (200) reached and the optimization hasn't converged yet.\n",
      "  warnings.warn(\n",
      "C:\\Users\\caleb\\Anaconda3\\lib\\site-packages\\sklearn\\neural_network\\_multilayer_perceptron.py:582: ConvergenceWarning: Stochastic Optimizer: Maximum iterations (200) reached and the optimization hasn't converged yet.\n",
      "  warnings.warn(\n",
      "C:\\Users\\caleb\\Anaconda3\\lib\\site-packages\\sklearn\\neural_network\\_multilayer_perceptron.py:582: ConvergenceWarning: Stochastic Optimizer: Maximum iterations (200) reached and the optimization hasn't converged yet.\n",
      "  warnings.warn(\n",
      "C:\\Users\\caleb\\Anaconda3\\lib\\site-packages\\sklearn\\neural_network\\_multilayer_perceptron.py:582: ConvergenceWarning: Stochastic Optimizer: Maximum iterations (200) reached and the optimization hasn't converged yet.\n",
      "  warnings.warn(\n"
     ]
    },
    {
     "name": "stderr",
     "output_type": "stream",
     "text": [
      "C:\\Users\\caleb\\Anaconda3\\lib\\site-packages\\sklearn\\neural_network\\_multilayer_perceptron.py:582: ConvergenceWarning: Stochastic Optimizer: Maximum iterations (200) reached and the optimization hasn't converged yet.\n",
      "  warnings.warn(\n",
      "C:\\Users\\caleb\\Anaconda3\\lib\\site-packages\\sklearn\\neural_network\\_multilayer_perceptron.py:582: ConvergenceWarning: Stochastic Optimizer: Maximum iterations (200) reached and the optimization hasn't converged yet.\n",
      "  warnings.warn(\n",
      "C:\\Users\\caleb\\Anaconda3\\lib\\site-packages\\sklearn\\neural_network\\_multilayer_perceptron.py:582: ConvergenceWarning: Stochastic Optimizer: Maximum iterations (200) reached and the optimization hasn't converged yet.\n",
      "  warnings.warn(\n",
      "C:\\Users\\caleb\\Anaconda3\\lib\\site-packages\\sklearn\\neural_network\\_multilayer_perceptron.py:582: ConvergenceWarning: Stochastic Optimizer: Maximum iterations (200) reached and the optimization hasn't converged yet.\n",
      "  warnings.warn(\n",
      "C:\\Users\\caleb\\Anaconda3\\lib\\site-packages\\sklearn\\neural_network\\_multilayer_perceptron.py:582: ConvergenceWarning: Stochastic Optimizer: Maximum iterations (200) reached and the optimization hasn't converged yet.\n",
      "  warnings.warn(\n",
      "C:\\Users\\caleb\\Anaconda3\\lib\\site-packages\\sklearn\\neural_network\\_multilayer_perceptron.py:582: ConvergenceWarning: Stochastic Optimizer: Maximum iterations (200) reached and the optimization hasn't converged yet.\n",
      "  warnings.warn(\n",
      "C:\\Users\\caleb\\Anaconda3\\lib\\site-packages\\sklearn\\neural_network\\_multilayer_perceptron.py:582: ConvergenceWarning: Stochastic Optimizer: Maximum iterations (200) reached and the optimization hasn't converged yet.\n",
      "  warnings.warn(\n",
      "C:\\Users\\caleb\\Anaconda3\\lib\\site-packages\\sklearn\\neural_network\\_multilayer_perceptron.py:582: ConvergenceWarning: Stochastic Optimizer: Maximum iterations (200) reached and the optimization hasn't converged yet.\n",
      "  warnings.warn(\n",
      "C:\\Users\\caleb\\Anaconda3\\lib\\site-packages\\sklearn\\neural_network\\_multilayer_perceptron.py:582: ConvergenceWarning: Stochastic Optimizer: Maximum iterations (200) reached and the optimization hasn't converged yet.\n",
      "  warnings.warn(\n",
      "C:\\Users\\caleb\\Anaconda3\\lib\\site-packages\\sklearn\\neural_network\\_multilayer_perceptron.py:582: ConvergenceWarning: Stochastic Optimizer: Maximum iterations (200) reached and the optimization hasn't converged yet.\n",
      "  warnings.warn(\n"
     ]
    }
   ],
   "source": [
    "\n",
    "modeles = []\n",
    "modeles.append(LinearRegression())\n",
    "\n",
    "for val_alpha in (1e-3, 1e-2, 1e-1, 1):\n",
    "    modeles.append(Lasso(alpha=val_alpha))\n",
    "    \n",
    "for val_alpha in (1e-3, 1e-2, 1e-1, 1):\n",
    "    modeles.append(Ridge(alpha=val_alpha))\n",
    "\n",
    "for val_alpha in (1e-3, 1e-2, 1e-1, 1):\n",
    "    for val_l1 in (0.25, 0.5, 0.75):\n",
    "        modeles.append(ElasticNet(alpha=val_alpha, l1_ratio=val_l1))\n",
    "    \n",
    "for nb_voisins in range(3, 10):\n",
    "    modeles.append(KNeighborsRegressor(n_neighbors=nb_voisins))\n",
    "\n",
    "\n",
    "\n",
    "for val_epsilon in (10 ** n for n in range(-3, 1)):\n",
    "    for val_C in (10 ** n for n in range(-3, 4)):\n",
    "        modeles.append(SVR(epsilon=val_epsilon, C=val_C))\n",
    "\n",
    "\n",
    "for nb_estimateurs in (50, 100, 150, 200):\n",
    "    modeles.append(RandomForestRegressor(n_estimators=nb_estimateurs))\n",
    "    \n",
    "for nb_neurones in  ((100,), (50, 50), (25, 50, 25)):\n",
    "    modeles.append(MLPRegressor(hidden_layer_sizes=nb_neurones))\n",
    "    \n",
    "i=0\n",
    "Classificateur=[]\n",
    "for i in range(len(modeles)):\n",
    "    liste= Pipeline(steps=[(\"processor\",transformer),\n",
    "                        (\"classi\",modeles[i])])\n",
    "    Classificateur.append(liste) \n",
    "    i=i+1\n",
    "    \n",
    "i=0\n",
    "resultats=[]\n",
    "for i in range(len(Classificateur)):\n",
    "    cr=cross_val_score(Classificateur[i],X_train,y_train,cv=10)\n",
    "    resultats.append(cr)\n",
    "    i=i+1\n",
    "DeprecationWarning"
   ]
  },
  {
   "cell_type": "markdown",
   "metadata": {},
   "source": [
    "* Performance des modèles sur les données d'entrainement suite à une cross-validation."
   ]
  },
  {
   "cell_type": "code",
   "execution_count": 41,
   "metadata": {
    "scrolled": false
   },
   "outputs": [],
   "source": [
    "Dico={}\n",
    "i=0\n",
    "for i in range(len(resultats)):\n",
    "    Dico[modeles[i]]=[resultats[i].mean(),resultats[i].std()]\n",
    "    i=i+1"
   ]
  },
  {
   "cell_type": "code",
   "execution_count": 42,
   "metadata": {
    "scrolled": false
   },
   "outputs": [
    {
     "name": "stdout",
     "output_type": "stream",
     "text": [
      "RandomForestRegressor(n_estimators=200)            : [0.8500670896710559, 0.0452415438631804]\n",
      "RandomForestRegressor(n_estimators=50)             : [0.8459837252851836, 0.0425471041385668]\n",
      "RandomForestRegressor(n_estimators=150)            : [0.8447658919372051, 0.04981255906222098]\n",
      "RandomForestRegressor()                            : [0.8445608626103738, 0.04700879066574336]\n",
      "SVR(C=1000, epsilon=1)                             : [0.8098230198250691, 0.07335370999561991]\n",
      "SVR(C=1000)                                        : [0.8095997135884161, 0.07344033867810665]\n",
      "SVR(C=1000, epsilon=0.01)                          : [0.8095796211923375, 0.07345039282427256]\n",
      "SVR(C=1000, epsilon=0.001)                         : [0.8095776309920767, 0.07345137517969176]\n",
      "MLPRegressor(hidden_layer_sizes=(25, 50, 25))      : [0.7880671546626665, 0.06643525081167745]\n",
      "KNeighborsRegressor(n_neighbors=4)                 : [0.7842880696893514, 0.05980865008094562]\n",
      "ElasticNet(alpha=0.001, l1_ratio=0.75)             : [0.7702063318411752, 0.0636469239994682]\n",
      "ElasticNet(alpha=0.001)                            : [0.7698429991044152, 0.06275959493907071]\n",
      "Lasso(alpha=0.1)                                   : [0.7698412062902722, 0.06869858426347178]\n",
      "Ridge(alpha=0.1)                                   : [0.7691111185490316, 0.06462507252305312]\n",
      "KNeighborsRegressor(n_neighbors=7)                 : [0.7683026191659096, 0.07402266643600348]\n",
      "ElasticNet(alpha=0.001, l1_ratio=0.25)             : [0.7677688774982762, 0.062388596575485004]\n",
      "Lasso(alpha=0.01)                                  : [0.767522895219372, 0.06756790678095531]\n",
      "KNeighborsRegressor(n_neighbors=6)                 : [0.7671818537071479, 0.0690334039167989]\n",
      "Ridge(alpha=0.01)                                  : [0.7661004514614943, 0.06642412961329465]\n",
      "LinearRegression()                                 : [0.7657426570448935, 0.06694350285629931]\n",
      "Ridge(alpha=0.001)                                 : [0.7655698753785873, 0.06676112138715604]\n",
      "Lasso(alpha=0.001)                                 : [0.7651284465200551, 0.06603228815959183]\n",
      "KNeighborsRegressor()                              : [0.7636269476248141, 0.06695161885488107]\n",
      "KNeighborsRegressor(n_neighbors=8)                 : [0.763155832677435, 0.07793604646104177]\n",
      "Ridge(alpha=1)                                     : [0.7588592883490233, 0.06169738933320693]\n",
      "KNeighborsRegressor(n_neighbors=9)                 : [0.758750668803495, 0.08357634932684442]\n",
      "ElasticNet(alpha=0.01, l1_ratio=0.75)              : [0.7478867150412051, 0.060729492495686335]\n",
      "KNeighborsRegressor(n_neighbors=3)                 : [0.7474435584855071, 0.06864788697767678]\n",
      "MLPRegressor(hidden_layer_sizes=(50, 50))          : [0.73706482468824, 0.05882102735694653]\n",
      "Lasso(alpha=1)                                     : [0.7340164644619082, 0.060741042801707626]\n",
      "ElasticNet(alpha=0.01)                             : [0.7287063858786114, 0.059124176651952895]\n",
      "ElasticNet(alpha=0.01, l1_ratio=0.25)              : [0.7159576895084248, 0.05826421897785568]\n",
      "SVR(C=100, epsilon=1)                              : [0.695473566875257, 0.10161151403774481]\n",
      "SVR(C=100)                                         : [0.6953442974371866, 0.1017880481651834]\n",
      "SVR(C=100, epsilon=0.01)                           : [0.6953336521047896, 0.10181214582099625]\n",
      "SVR(C=100, epsilon=0.001)                          : [0.6953324961986436, 0.10181461403612185]\n",
      "ElasticNet(alpha=0.1, l1_ratio=0.75)               : [0.6630105553011121, 0.05942113080609634]\n",
      "ElasticNet(alpha=0.1)                              : [0.6161218792365035, 0.061516868709634125]\n",
      "ElasticNet(alpha=0.1, l1_ratio=0.25)               : [0.580505321422616, 0.06161192520668646]\n",
      "ElasticNet(alpha=1, l1_ratio=0.75)                 : [0.42373936097910914, 0.05597026354933814]\n",
      "ElasticNet(alpha=1)                                : [0.32128102448027007, 0.04685775993289569]\n",
      "SVR(C=10, epsilon=1)                               : [0.2901406494417049, 0.0822939287545958]\n",
      "SVR(C=10)                                          : [0.290014799651673, 0.08233369251084098]\n",
      "SVR(C=10, epsilon=0.01)                            : [0.29001463506434344, 0.08233397622092271]\n",
      "SVR(C=10, epsilon=0.001)                           : [0.2900145370556694, 0.08233410130008821]\n",
      "ElasticNet(alpha=1, l1_ratio=0.25)                 : [0.26037999933823075, 0.04012567108874257]\n",
      "MLPRegressor()                                     : [0.1908685637289355, 0.059739153956505385]\n",
      "SVR(C=1, epsilon=0.001)                            : [-0.06895972375212187, 0.06804987049732593]\n",
      "SVR(C=1, epsilon=0.01)                             : [-0.0689672466627875, 0.06804994946110285]\n",
      "SVR(C=1)                                           : [-0.06905284784031904, 0.0680620869930629]\n",
      "SVR(C=1, epsilon=1)                                : [-0.06941555101937173, 0.06819889112851797]\n",
      "SVR(C=0.1)                                         : [-0.13321677654780975, 0.07529650064894326]\n",
      "SVR(C=0.1, epsilon=0.01)                           : [-0.13323051784243803, 0.07535330871458967]\n",
      "SVR(C=0.1, epsilon=0.001)                          : [-0.13323146768701105, 0.07535751627066044]\n",
      "SVR(C=0.1, epsilon=1)                              : [-0.13348751915409646, 0.0751763786681212]\n",
      "SVR(C=0.01, epsilon=1)                             : [-0.13965112664052926, 0.07587679947450317]\n",
      "SVR(C=0.01, epsilon=0.001)                         : [-0.1396785483240938, 0.07659882899870603]\n",
      "SVR(C=0.01, epsilon=0.01)                          : [-0.13968015837997966, 0.07659730792898009]\n",
      "SVR(C=0.01)                                        : [-0.1396848956008851, 0.07655911278723776]\n",
      "SVR(C=0.001, epsilon=1)                            : [-0.14024969239578106, 0.07598076725192401]\n",
      "SVR(C=0.001, epsilon=0.001)                        : [-0.14027052355811656, 0.07668965903353325]\n",
      "SVR(C=0.001, epsilon=0.01)                         : [-0.14027213390387971, 0.07668814061742786]\n",
      "SVR(C=0.001)                                       : [-0.1402817053415087, 0.07663298789779514]\n"
     ]
    }
   ],
   "source": [
    "for key, value in (sorted(Dico.items(), key=lambda x: x[1],reverse=True)) :\n",
    "    print(f'{repr(key):50} : {value}')"
   ]
  },
  {
   "cell_type": "code",
   "execution_count": 43,
   "metadata": {
    "collapsed": true,
    "scrolled": true
   },
   "outputs": [
    {
     "name": "stderr",
     "output_type": "stream",
     "text": [
      "C:\\Users\\caleb\\Anaconda3\\lib\\site-packages\\sklearn\\linear_model\\_coordinate_descent.py:512: ConvergenceWarning: Objective did not converge. You might want to increase the number of iterations. Duality gap: 2163020.204727728, tolerance: 7907.571891470534\n",
      "  model = cd_fast.sparse_enet_coordinate_descent(\n",
      "C:\\Users\\caleb\\Anaconda3\\lib\\site-packages\\sklearn\\linear_model\\_coordinate_descent.py:512: ConvergenceWarning: Objective did not converge. You might want to increase the number of iterations. Duality gap: 84049.36738547683, tolerance: 7907.571891470534\n",
      "  model = cd_fast.sparse_enet_coordinate_descent(\n",
      "C:\\Users\\caleb\\Anaconda3\\lib\\site-packages\\sklearn\\linear_model\\_coordinate_descent.py:512: ConvergenceWarning: Objective did not converge. You might want to increase the number of iterations. Duality gap: 210658.7577155307, tolerance: 7907.571891470534\n",
      "  model = cd_fast.sparse_enet_coordinate_descent(\n",
      "C:\\Users\\caleb\\Anaconda3\\lib\\site-packages\\sklearn\\linear_model\\_coordinate_descent.py:512: ConvergenceWarning: Objective did not converge. You might want to increase the number of iterations. Duality gap: 4539450.678364381, tolerance: 7907.571891470534\n",
      "  model = cd_fast.sparse_enet_coordinate_descent(\n",
      "C:\\Users\\caleb\\Anaconda3\\lib\\site-packages\\sklearn\\neural_network\\_multilayer_perceptron.py:582: ConvergenceWarning: Stochastic Optimizer: Maximum iterations (200) reached and the optimization hasn't converged yet.\n",
      "  warnings.warn(\n",
      "C:\\Users\\caleb\\Anaconda3\\lib\\site-packages\\sklearn\\neural_network\\_multilayer_perceptron.py:582: ConvergenceWarning: Stochastic Optimizer: Maximum iterations (200) reached and the optimization hasn't converged yet.\n",
      "  warnings.warn(\n",
      "C:\\Users\\caleb\\Anaconda3\\lib\\site-packages\\sklearn\\neural_network\\_multilayer_perceptron.py:582: ConvergenceWarning: Stochastic Optimizer: Maximum iterations (200) reached and the optimization hasn't converged yet.\n",
      "  warnings.warn(\n"
     ]
    }
   ],
   "source": [
    "modfit=[]\n",
    "for i in range(len(Classificateur)):\n",
    "    L = Classificateur[i].fit(X_train, y_train)\n",
    "    modfit.append(L)"
   ]
  },
  {
   "cell_type": "markdown",
   "metadata": {},
   "source": [
    "* Performance des modèles sur les données de test suite à une cross-validation."
   ]
  },
  {
   "cell_type": "code",
   "execution_count": 44,
   "metadata": {
    "scrolled": false
   },
   "outputs": [],
   "source": [
    "Dicoscoretest={}\n",
    "i=0\n",
    "for i in range(len(modeles)):\n",
    "    Dicoscoretest[modeles[i]]=[modfit[i].score(X_test, y_test)]\n",
    "    i=i+1\n"
   ]
  },
  {
   "cell_type": "code",
   "execution_count": 45,
   "metadata": {
    "scrolled": false
   },
   "outputs": [
    {
     "name": "stdout",
     "output_type": "stream",
     "text": [
      "RandomForestRegressor(n_estimators=200)            : [0.8241934501947241]\n",
      "RandomForestRegressor(n_estimators=50)             : [0.8230916624617003]\n",
      "RandomForestRegressor(n_estimators=150)            : [0.8226891585261457]\n",
      "RandomForestRegressor()                            : [0.8225567096535018]\n",
      "MLPRegressor(hidden_layer_sizes=(25, 50, 25))      : [0.8199349473220139]\n",
      "SVR(C=1000, epsilon=1)                             : [0.8061313813667815]\n",
      "SVR(C=1000)                                        : [0.8060535127113734]\n",
      "SVR(C=1000, epsilon=0.01)                          : [0.8060404785478497]\n",
      "SVR(C=1000, epsilon=0.001)                         : [0.8060391439345816]\n",
      "KNeighborsRegressor(n_neighbors=9)                 : [0.7997880650492766]\n",
      "KNeighborsRegressor(n_neighbors=8)                 : [0.7977441366148311]\n",
      "KNeighborsRegressor(n_neighbors=6)                 : [0.7890954586828117]\n",
      "KNeighborsRegressor(n_neighbors=7)                 : [0.7835892341103244]\n",
      "KNeighborsRegressor()                              : [0.7824742624418706]\n",
      "SVR(C=100, epsilon=1)                              : [0.7798069749108093]\n",
      "SVR(C=100)                                         : [0.7795511266850292]\n",
      "SVR(C=100, epsilon=0.01)                           : [0.7795199543309009]\n",
      "SVR(C=100, epsilon=0.001)                          : [0.7795167615145757]\n",
      "MLPRegressor(hidden_layer_sizes=(50, 50))          : [0.7758662735787456]\n",
      "KNeighborsRegressor(n_neighbors=4)                 : [0.7553108015022969]\n",
      "Lasso(alpha=0.01)                                  : [0.7468772179063484]\n",
      "LinearRegression()                                 : [0.7468680817479408]\n",
      "ElasticNet(alpha=0.001, l1_ratio=0.75)             : [0.7464079915366889]\n",
      "Ridge(alpha=0.01)                                  : [0.7463450932926271]\n",
      "Ridge(alpha=0.1)                                   : [0.7462453911340905]\n",
      "Ridge(alpha=0.001)                                 : [0.7460690213617304]\n",
      "Lasso(alpha=0.001)                                 : [0.7459852488514643]\n",
      "ElasticNet(alpha=0.001)                            : [0.745786676012393]\n",
      "ElasticNet(alpha=0.001, l1_ratio=0.25)             : [0.7450137827610144]\n",
      "Ridge(alpha=1)                                     : [0.7424028894442701]\n",
      "Lasso(alpha=0.1)                                   : [0.7417129320910988]\n",
      "ElasticNet(alpha=0.01, l1_ratio=0.75)              : [0.7374514304010316]\n",
      "KNeighborsRegressor(n_neighbors=3)                 : [0.7343349939837853]\n",
      "ElasticNet(alpha=0.01)                             : [0.7280178121118541]\n",
      "ElasticNet(alpha=0.01, l1_ratio=0.25)              : [0.7201684283338825]\n",
      "Lasso(alpha=1)                                     : [0.7081107205870469]\n",
      "ElasticNet(alpha=0.1, l1_ratio=0.75)               : [0.6797373086550054]\n",
      "ElasticNet(alpha=0.1)                              : [0.640329807886225]\n",
      "ElasticNet(alpha=0.1, l1_ratio=0.25)               : [0.6084014280888481]\n",
      "ElasticNet(alpha=1, l1_ratio=0.75)                 : [0.45390505225860756]\n",
      "SVR(C=10, epsilon=0.001)                           : [0.40044649646477726]\n",
      "SVR(C=10, epsilon=0.01)                            : [0.4004394419302848]\n",
      "SVR(C=10)                                          : [0.40036797658152656]\n",
      "SVR(C=10, epsilon=1)                               : [0.400053671580084]\n",
      "ElasticNet(alpha=1)                                : [0.347710388577246]\n",
      "ElasticNet(alpha=1, l1_ratio=0.25)                 : [0.28345319563502747]\n",
      "MLPRegressor()                                     : [0.26164906361977336]\n",
      "SVR(C=1)                                           : [-0.009079485324649195]\n",
      "SVR(C=1, epsilon=0.01)                             : [-0.009087247140311838]\n",
      "SVR(C=1, epsilon=0.001)                            : [-0.009088023496207409]\n",
      "SVR(C=1, epsilon=1)                                : [-0.00965578734455641]\n",
      "SVR(C=0.1, epsilon=1)                              : [-0.08578905232147926]\n",
      "SVR(C=0.1, epsilon=0.001)                          : [-0.08583309877427703]\n",
      "SVR(C=0.1, epsilon=0.01)                           : [-0.08583309877427703]\n",
      "SVR(C=0.1)                                         : [-0.08583309877427703]\n",
      "SVR(C=0.01, epsilon=1)                             : [-0.0927329407541233]\n",
      "SVR(C=0.01, epsilon=0.001)                         : [-0.0930006957785301]\n",
      "SVR(C=0.01, epsilon=0.01)                          : [-0.0930006957785301]\n",
      "SVR(C=0.01)                                        : [-0.0930006957785301]\n",
      "SVR(C=0.001, epsilon=1)                            : [-0.09323254078863497]\n",
      "SVR(C=0.001, epsilon=0.001)                        : [-0.09372002390543743]\n",
      "SVR(C=0.001, epsilon=0.01)                         : [-0.09372002390543743]\n",
      "SVR(C=0.001)                                       : [-0.09372002390543743]\n"
     ]
    }
   ],
   "source": [
    "for key, value in (sorted(Dicoscoretest.items(), key=lambda x: x[1],reverse=True)) :\n",
    "    print(f'{repr(key):50} : {value}')"
   ]
  },
  {
   "cell_type": "markdown",
   "metadata": {},
   "source": [
    "* Àprès avoir testé et ordonné tous les modèles sur les données d'entrainement et les données de test du meilleur au plus mauvais, nous constatons que les modèles sont les Random Forest. Et plus précisement celle avec un n_estimators de défaut c'est à 200(dans mon cas). \n"
   ]
  },
  {
   "cell_type": "code",
   "execution_count": 46,
   "metadata": {
    "scrolled": false
   },
   "outputs": [],
   "source": [
    "import machine"
   ]
  },
  {
   "cell_type": "markdown",
   "metadata": {},
   "source": [
    "* Nous utilisons le modfit[57] car elle correspond au modèle random forest avec un n_estimators par défaut."
   ]
  },
  {
   "cell_type": "code",
   "execution_count": 47,
   "metadata": {
    "scrolled": false
   },
   "outputs": [
    {
     "data": {
      "text/html": [
       "<div>\n",
       "<style scoped>\n",
       "    .dataframe tbody tr th:only-of-type {\n",
       "        vertical-align: middle;\n",
       "    }\n",
       "\n",
       "    .dataframe tbody tr th {\n",
       "        vertical-align: top;\n",
       "    }\n",
       "\n",
       "    .dataframe thead th {\n",
       "        text-align: right;\n",
       "    }\n",
       "</style>\n",
       "<table border=\"1\" class=\"dataframe\">\n",
       "  <thead>\n",
       "    <tr style=\"text-align: right;\">\n",
       "      <th></th>\n",
       "      <th>predicted</th>\n",
       "      <th>true</th>\n",
       "      <th>difference</th>\n",
       "    </tr>\n",
       "  </thead>\n",
       "  <tbody>\n",
       "    <tr>\n",
       "      <th>1</th>\n",
       "      <td>188.416029</td>\n",
       "      <td>172.58</td>\n",
       "      <td>15.836029</td>\n",
       "    </tr>\n",
       "  </tbody>\n",
       "</table>\n",
       "</div>"
      ],
      "text/plain": [
       "    predicted    true  difference\n",
       "1  188.416029  172.58   15.836029"
      ]
     },
     "execution_count": 47,
     "metadata": {},
     "output_type": "execute_result"
    }
   ],
   "source": [
    "machine.prediction(df1,modfit[57],1)"
   ]
  },
  {
   "cell_type": "markdown",
   "metadata": {},
   "source": [
    "La fonction prediction provenant de machine.py fait une estimation du prix par rapports aux différentes variables explicatives.Elle estime le meilleur prix possible en fonction des données.\n",
    "\n",
    "Ici les données proviennent de la base de données déjà existante que nous avons mais nous aurions bien évidemment pu modifier la fonction pour que nous-mêmes entrons les valeurs des variables explicatives et non pas qu'elles proviennent de la base de données déjà existante ou fictive.Et faire bien plus encore"
   ]
  },
  {
   "cell_type": "markdown",
   "metadata": {},
   "source": [
    "Nous avons laissé certaine fonction comme celle du scrraping et celle sur les modèles(cross-validation) pour montrer la complexité."
   ]
  },
  {
   "cell_type": "markdown",
   "metadata": {},
   "source": [
    "# fin"
   ]
  }
 ],
 "metadata": {
  "celltoolbar": "Aucun(e)",
  "kernelspec": {
   "display_name": "Python 3",
   "language": "python",
   "name": "python3"
  },
  "language_info": {
   "codemirror_mode": {
    "name": "ipython",
    "version": 3
   },
   "file_extension": ".py",
   "mimetype": "text/x-python",
   "name": "python",
   "nbconvert_exporter": "python",
   "pygments_lexer": "ipython3",
   "version": "3.8.3"
  }
 },
 "nbformat": 4,
 "nbformat_minor": 4
}
